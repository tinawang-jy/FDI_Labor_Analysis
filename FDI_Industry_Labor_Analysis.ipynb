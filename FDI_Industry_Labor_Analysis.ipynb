{
 "cells": [
  {
   "cell_type": "markdown",
   "id": "07c31ebe",
   "metadata": {},
   "source": [
    "## Setup Environment"
   ]
  },
  {
   "cell_type": "code",
   "execution_count": 284,
   "id": "7f831e15",
   "metadata": {},
   "outputs": [],
   "source": [
    "import pandas as pd\n",
    "import geopandas as gpd\n",
    "import matplotlib.pyplot as plt\n",
    "import plotly.express as px\n",
    "import fiona\n",
    "\n",
    "from sklearn.model_selection import train_test_split, GridSearchCV\n",
    "from sklearn.linear_model import LogisticRegression\n",
    "from sklearn.tree import DecisionTreeClassifier\n",
    "from sklearn.ensemble import RandomForestClassifier\n",
    "from sklearn.neighbors import KNeighborsClassifier\n",
    "from sklearn.metrics import accuracy_score\n",
    "from sklearn.metrics import roc_curve, roc_auc_score"
   ]
  },
  {
   "cell_type": "markdown",
   "id": "07ba9f42",
   "metadata": {},
   "source": [
    "# Data Preprocessing "
   ]
  },
  {
   "cell_type": "markdown",
   "id": "1f58d699",
   "metadata": {},
   "source": [
    "### I. County Shapefile"
   ]
  },
  {
   "cell_type": "code",
   "execution_count": 2,
   "id": "5dd431bd",
   "metadata": {},
   "outputs": [],
   "source": [
    "county = gpd.read_file(\"UScounties/UScounties.shp\")"
   ]
  },
  {
   "cell_type": "code",
   "execution_count": 3,
   "id": "8433fd91",
   "metadata": {},
   "outputs": [
    {
     "data": {
      "text/html": [
       "<div>\n",
       "<style scoped>\n",
       "    .dataframe tbody tr th:only-of-type {\n",
       "        vertical-align: middle;\n",
       "    }\n",
       "\n",
       "    .dataframe tbody tr th {\n",
       "        vertical-align: top;\n",
       "    }\n",
       "\n",
       "    .dataframe thead th {\n",
       "        text-align: right;\n",
       "    }\n",
       "</style>\n",
       "<table border=\"1\" class=\"dataframe\">\n",
       "  <thead>\n",
       "    <tr style=\"text-align: right;\">\n",
       "      <th></th>\n",
       "      <th>NAME</th>\n",
       "      <th>STATE_NAME</th>\n",
       "      <th>STATE_FIPS</th>\n",
       "      <th>CNTY_FIPS</th>\n",
       "      <th>FIPS</th>\n",
       "      <th>geometry</th>\n",
       "    </tr>\n",
       "  </thead>\n",
       "  <tbody>\n",
       "    <tr>\n",
       "      <th>0</th>\n",
       "      <td>Lake of the Woods</td>\n",
       "      <td>Minnesota</td>\n",
       "      <td>27</td>\n",
       "      <td>077</td>\n",
       "      <td>27077</td>\n",
       "      <td>POLYGON ((-95.34283 48.54668, -95.34105 48.715...</td>\n",
       "    </tr>\n",
       "    <tr>\n",
       "      <th>1</th>\n",
       "      <td>Ferry</td>\n",
       "      <td>Washington</td>\n",
       "      <td>53</td>\n",
       "      <td>019</td>\n",
       "      <td>53019</td>\n",
       "      <td>POLYGON ((-118.85163 47.94956, -118.84846 48.4...</td>\n",
       "    </tr>\n",
       "  </tbody>\n",
       "</table>\n",
       "</div>"
      ],
      "text/plain": [
       "                NAME  STATE_NAME STATE_FIPS CNTY_FIPS   FIPS  \\\n",
       "0  Lake of the Woods   Minnesota         27       077  27077   \n",
       "1              Ferry  Washington         53       019  53019   \n",
       "\n",
       "                                            geometry  \n",
       "0  POLYGON ((-95.34283 48.54668, -95.34105 48.715...  \n",
       "1  POLYGON ((-118.85163 47.94956, -118.84846 48.4...  "
      ]
     },
     "execution_count": 3,
     "metadata": {},
     "output_type": "execute_result"
    }
   ],
   "source": [
    "county.head(2)"
   ]
  },
  {
   "cell_type": "code",
   "execution_count": 4,
   "id": "c2c3002c",
   "metadata": {},
   "outputs": [],
   "source": [
    "county['NAME'] = county['NAME'] + ' County'"
   ]
  },
  {
   "cell_type": "markdown",
   "id": "dbfd91ae",
   "metadata": {},
   "source": [
    "### II. County Business Data (CBP) "
   ]
  },
  {
   "cell_type": "code",
   "execution_count": 5,
   "id": "3d7d7dab",
   "metadata": {},
   "outputs": [],
   "source": [
    "# Read the TXT file into a DataFrame\n",
    "df_12 = pd.read_csv('CBP/cbp12co.txt', delimiter=',')\n",
    "df_20 = pd.read_csv('CBP/cbp20co.txt', delimiter=',')"
   ]
  },
  {
   "cell_type": "code",
   "execution_count": 6,
   "id": "451ee520",
   "metadata": {},
   "outputs": [
    {
     "name": "stdout",
     "output_type": "stream",
     "text": [
      "2131529\n"
     ]
    },
    {
     "data": {
      "text/html": [
       "<div>\n",
       "<style scoped>\n",
       "    .dataframe tbody tr th:only-of-type {\n",
       "        vertical-align: middle;\n",
       "    }\n",
       "\n",
       "    .dataframe tbody tr th {\n",
       "        vertical-align: top;\n",
       "    }\n",
       "\n",
       "    .dataframe thead th {\n",
       "        text-align: right;\n",
       "    }\n",
       "</style>\n",
       "<table border=\"1\" class=\"dataframe\">\n",
       "  <thead>\n",
       "    <tr style=\"text-align: right;\">\n",
       "      <th></th>\n",
       "      <th>fipstate</th>\n",
       "      <th>fipscty</th>\n",
       "      <th>naics</th>\n",
       "      <th>empflag</th>\n",
       "      <th>emp_nf</th>\n",
       "      <th>emp</th>\n",
       "      <th>qp1_nf</th>\n",
       "      <th>qp1</th>\n",
       "      <th>ap_nf</th>\n",
       "      <th>ap</th>\n",
       "      <th>...</th>\n",
       "      <th>n100_249</th>\n",
       "      <th>n250_499</th>\n",
       "      <th>n500_999</th>\n",
       "      <th>n1000</th>\n",
       "      <th>n1000_1</th>\n",
       "      <th>n1000_2</th>\n",
       "      <th>n1000_3</th>\n",
       "      <th>n1000_4</th>\n",
       "      <th>censtate</th>\n",
       "      <th>cencty</th>\n",
       "    </tr>\n",
       "  </thead>\n",
       "  <tbody>\n",
       "    <tr>\n",
       "      <th>0</th>\n",
       "      <td>1</td>\n",
       "      <td>1</td>\n",
       "      <td>------</td>\n",
       "      <td>NaN</td>\n",
       "      <td>G</td>\n",
       "      <td>9908</td>\n",
       "      <td>G</td>\n",
       "      <td>65428</td>\n",
       "      <td>G</td>\n",
       "      <td>280188</td>\n",
       "      <td>...</td>\n",
       "      <td>7</td>\n",
       "      <td>1</td>\n",
       "      <td>1</td>\n",
       "      <td>0</td>\n",
       "      <td>0</td>\n",
       "      <td>0</td>\n",
       "      <td>0</td>\n",
       "      <td>0</td>\n",
       "      <td>63</td>\n",
       "      <td>1</td>\n",
       "    </tr>\n",
       "    <tr>\n",
       "      <th>1</th>\n",
       "      <td>1</td>\n",
       "      <td>1</td>\n",
       "      <td>11----</td>\n",
       "      <td>NaN</td>\n",
       "      <td>H</td>\n",
       "      <td>30</td>\n",
       "      <td>H</td>\n",
       "      <td>264</td>\n",
       "      <td>G</td>\n",
       "      <td>1102</td>\n",
       "      <td>...</td>\n",
       "      <td>0</td>\n",
       "      <td>0</td>\n",
       "      <td>0</td>\n",
       "      <td>0</td>\n",
       "      <td>0</td>\n",
       "      <td>0</td>\n",
       "      <td>0</td>\n",
       "      <td>0</td>\n",
       "      <td>63</td>\n",
       "      <td>1</td>\n",
       "    </tr>\n",
       "  </tbody>\n",
       "</table>\n",
       "<p>2 rows × 26 columns</p>\n",
       "</div>"
      ],
      "text/plain": [
       "   fipstate  fipscty   naics empflag emp_nf   emp qp1_nf    qp1 ap_nf      ap  \\\n",
       "0         1        1  ------     NaN      G  9908      G  65428     G  280188   \n",
       "1         1        1  11----     NaN      H    30      H    264     G    1102   \n",
       "\n",
       "   ...  n100_249  n250_499  n500_999  n1000  n1000_1  n1000_2  n1000_3  \\\n",
       "0  ...         7         1         1      0        0        0        0   \n",
       "1  ...         0         0         0      0        0        0        0   \n",
       "\n",
       "   n1000_4  censtate  cencty  \n",
       "0        0        63       1  \n",
       "1        0        63       1  \n",
       "\n",
       "[2 rows x 26 columns]"
      ]
     },
     "execution_count": 6,
     "metadata": {},
     "output_type": "execute_result"
    }
   ],
   "source": [
    "print(len(df_12))\n",
    "df_12.head(2)"
   ]
  },
  {
   "cell_type": "code",
   "execution_count": 7,
   "id": "6f7cf611",
   "metadata": {},
   "outputs": [
    {
     "name": "stdout",
     "output_type": "stream",
     "text": [
      "1082434\n"
     ]
    },
    {
     "data": {
      "text/html": [
       "<div>\n",
       "<style scoped>\n",
       "    .dataframe tbody tr th:only-of-type {\n",
       "        vertical-align: middle;\n",
       "    }\n",
       "\n",
       "    .dataframe tbody tr th {\n",
       "        vertical-align: top;\n",
       "    }\n",
       "\n",
       "    .dataframe thead th {\n",
       "        text-align: right;\n",
       "    }\n",
       "</style>\n",
       "<table border=\"1\" class=\"dataframe\">\n",
       "  <thead>\n",
       "    <tr style=\"text-align: right;\">\n",
       "      <th></th>\n",
       "      <th>fipstate</th>\n",
       "      <th>fipscty</th>\n",
       "      <th>naics</th>\n",
       "      <th>emp_nf</th>\n",
       "      <th>emp</th>\n",
       "      <th>qp1_nf</th>\n",
       "      <th>qp1</th>\n",
       "      <th>ap_nf</th>\n",
       "      <th>ap</th>\n",
       "      <th>est</th>\n",
       "      <th>...</th>\n",
       "      <th>n20_49</th>\n",
       "      <th>n50_99</th>\n",
       "      <th>n100_249</th>\n",
       "      <th>n250_499</th>\n",
       "      <th>n500_999</th>\n",
       "      <th>n1000</th>\n",
       "      <th>n1000_1</th>\n",
       "      <th>n1000_2</th>\n",
       "      <th>n1000_3</th>\n",
       "      <th>n1000_4</th>\n",
       "    </tr>\n",
       "  </thead>\n",
       "  <tbody>\n",
       "    <tr>\n",
       "      <th>0</th>\n",
       "      <td>1</td>\n",
       "      <td>1</td>\n",
       "      <td>------</td>\n",
       "      <td>G</td>\n",
       "      <td>11265</td>\n",
       "      <td>G</td>\n",
       "      <td>94865</td>\n",
       "      <td>G</td>\n",
       "      <td>385785</td>\n",
       "      <td>879</td>\n",
       "      <td>...</td>\n",
       "      <td>104</td>\n",
       "      <td>32</td>\n",
       "      <td>9</td>\n",
       "      <td>N</td>\n",
       "      <td>N</td>\n",
       "      <td>N</td>\n",
       "      <td>N</td>\n",
       "      <td>N</td>\n",
       "      <td>N</td>\n",
       "      <td>N</td>\n",
       "    </tr>\n",
       "    <tr>\n",
       "      <th>1</th>\n",
       "      <td>1</td>\n",
       "      <td>1</td>\n",
       "      <td>11----</td>\n",
       "      <td>H</td>\n",
       "      <td>92</td>\n",
       "      <td>G</td>\n",
       "      <td>1183</td>\n",
       "      <td>H</td>\n",
       "      <td>5232</td>\n",
       "      <td>10</td>\n",
       "      <td>...</td>\n",
       "      <td>N</td>\n",
       "      <td>N</td>\n",
       "      <td>N</td>\n",
       "      <td>N</td>\n",
       "      <td>N</td>\n",
       "      <td>N</td>\n",
       "      <td>N</td>\n",
       "      <td>N</td>\n",
       "      <td>N</td>\n",
       "      <td>N</td>\n",
       "    </tr>\n",
       "  </tbody>\n",
       "</table>\n",
       "<p>2 rows × 23 columns</p>\n",
       "</div>"
      ],
      "text/plain": [
       "   fipstate  fipscty   naics emp_nf    emp qp1_nf    qp1 ap_nf      ap  est  \\\n",
       "0         1        1  ------      G  11265      G  94865     G  385785  879   \n",
       "1         1        1  11----      H     92      G   1183     H    5232   10   \n",
       "\n",
       "   ... n20_49 n50_99 n100_249 n250_499 n500_999 n1000 n1000_1 n1000_2 n1000_3  \\\n",
       "0  ...    104     32        9        N        N     N       N       N       N   \n",
       "1  ...      N      N        N        N        N     N       N       N       N   \n",
       "\n",
       "  n1000_4  \n",
       "0       N  \n",
       "1       N  \n",
       "\n",
       "[2 rows x 23 columns]"
      ]
     },
     "execution_count": 7,
     "metadata": {},
     "output_type": "execute_result"
    }
   ],
   "source": [
    "print(len(df_20))\n",
    "df_20.head(2)"
   ]
  },
  {
   "cell_type": "code",
   "execution_count": 8,
   "id": "a1accd04",
   "metadata": {},
   "outputs": [
    {
     "data": {
      "text/plain": [
       "Index(['fipstate', 'fipscty', 'naics', 'empflag', 'emp_nf', 'emp', 'qp1_nf',\n",
       "       'qp1', 'ap_nf', 'ap', 'est', 'n1_4', 'n5_9', 'n10_19', 'n20_49',\n",
       "       'n50_99', 'n100_249', 'n250_499', 'n500_999', 'n1000', 'n1000_1',\n",
       "       'n1000_2', 'n1000_3', 'n1000_4', 'censtate', 'cencty'],\n",
       "      dtype='object')"
      ]
     },
     "execution_count": 8,
     "metadata": {},
     "output_type": "execute_result"
    }
   ],
   "source": [
    "df_12.columns"
   ]
  },
  {
   "cell_type": "code",
   "execution_count": 9,
   "id": "7f376bfb",
   "metadata": {},
   "outputs": [
    {
     "data": {
      "text/plain": [
       "Index(['fipstate', 'fipscty', 'naics', 'emp_nf', 'emp', 'qp1_nf', 'qp1',\n",
       "       'ap_nf', 'ap', 'est', 'n<5', 'n5_9', 'n10_19', 'n20_49', 'n50_99',\n",
       "       'n100_249', 'n250_499', 'n500_999', 'n1000', 'n1000_1', 'n1000_2',\n",
       "       'n1000_3', 'n1000_4'],\n",
       "      dtype='object')"
      ]
     },
     "execution_count": 9,
     "metadata": {},
     "output_type": "execute_result"
    }
   ],
   "source": [
    "df_20.columns"
   ]
  },
  {
   "cell_type": "code",
   "execution_count": 10,
   "id": "ec2e45ad",
   "metadata": {},
   "outputs": [],
   "source": [
    "# 2012 Data\n",
    "# define a custom function to process each element\n",
    "df_12 = df_12.replace('N', 0)\n",
    "\n",
    "# convert data type\n",
    "df_12['n1_4'] = df_12['n1_4'].astype(int)\n",
    "df_12['n5_9'] = df_12['n5_9'].astype(int)\n",
    "df_12['n10_19'] = df_12['n10_19'].astype(int)\n",
    "df_12['n20_49'] = df_12['n20_49'].astype(int)\n",
    "df_12['n50_99'] = df_12['n50_99'].astype(int)\n",
    "df_12['n100_249'] = df_12['n100_249'].astype(int)\n",
    "df_12['n250_499'] = df_12['n250_499'].astype(int)\n",
    "df_12['n500_999'] = df_12['n500_999'].astype(int)\n",
    "df_12['n1000_1'] = df_12['n1000_1'].astype(int)\n",
    "df_12['n1000_2'] = df_12['n1000_2'].astype(int)\n",
    "df_12['n1000_3'] = df_12['n1000_3'].astype(int)\n",
    "df_12['n1000_4'] = df_12['n1000_4'].astype(int)\n",
    "\n",
    "# Rescaling \n",
    "df_12[\"1000less\"] = df_12['n1_4'] + df_12['n5_9'] + df_12['n10_19'] + df_12['n20_49'] + df_12['n50_99'] + df_12['n100_249'] + df_12['n250_499'] + df_12['n500_999']\n",
    "df_12[\"1000to5000\"] = df_12['n1000_1'] + df_12['n1000_2'] + df_12['n1000_3']\n",
    "df_12[\"5000more\"] = df_12[\"n1000_4\"]\n",
    "\n",
    "df_12.loc[:,\"naics\"] = df_12.loc[:,\"naics\"].str[:2]\n",
    "\n",
    "#2020 Data\n",
    "# define a custom function to process each element\n",
    "df_20 = df_20.replace('N', 0)\n",
    "\n",
    "# convert data type\n",
    "df_20['n<5'] = df_20['n<5'].astype(int)\n",
    "df_20['n5_9'] = df_20['n5_9'].astype(int)\n",
    "df_20['n10_19'] = df_20['n10_19'].astype(int)\n",
    "df_20['n20_49'] = df_20['n20_49'].astype(int)\n",
    "df_20['n50_99'] = df_20['n50_99'].astype(int)\n",
    "df_20['n100_249'] = df_20['n100_249'].astype(int)\n",
    "df_20['n250_499'] = df_20['n250_499'].astype(int)\n",
    "df_20['n500_999'] = df_20['n500_999'].astype(int)\n",
    "df_20['n1000_1'] = df_20['n1000_1'].astype(int)\n",
    "df_20['n1000_2'] = df_20['n1000_2'].astype(int)\n",
    "df_20['n1000_3'] = df_20['n1000_3'].astype(int)\n",
    "df_20['n1000_4'] = df_20['n1000_4'].astype(int)\n",
    "\n",
    "# Rescaling \n",
    "df_20[\"1000less\"] = df_20['n<5'] + df_20['n5_9'] + df_20['n10_19'] + df_20['n20_49'] + df_20['n50_99'] + df_20['n100_249'] + df_12['n250_499'] + df_12['n500_999']\n",
    "df_20[\"1000to5000\"] = df_20['n1000_1'] + df_20['n1000_2'] + df_20['n1000_3']\n",
    "df_20[\"5000more\"] = df_20[\"n1000_4\"]\n",
    "\n",
    "df_20.loc[:,\"naics\"] = df_20.loc[:,\"naics\"].str[:2]\n"
   ]
  },
  {
   "cell_type": "code",
   "execution_count": 11,
   "id": "21a6c94a",
   "metadata": {},
   "outputs": [],
   "source": [
    "CBP_12 = df_12[[\"fipstate\",\"fipscty\", \"naics\", \"emp\", \"est\", \"1000less\",\"1000to5000\",\"5000more\"]]\n",
    "CBP_20 = df_20[[\"fipstate\",\"fipscty\", \"naics\", \"emp\", \"est\", \"1000less\",\"1000to5000\",\"5000more\"]]"
   ]
  },
  {
   "cell_type": "code",
   "execution_count": 12,
   "id": "032680ed",
   "metadata": {},
   "outputs": [
    {
     "name": "stderr",
     "output_type": "stream",
     "text": [
      "/var/folders/14/jyndvv096sqbkr5m6qz77nl40000gn/T/ipykernel_22529/3308171288.py:24: SettingWithCopyWarning: \n",
      "A value is trying to be set on a copy of a slice from a DataFrame.\n",
      "Try using .loc[row_indexer,col_indexer] = value instead\n",
      "\n",
      "See the caveats in the documentation: https://pandas.pydata.org/pandas-docs/stable/user_guide/indexing.html#returning-a-view-versus-a-copy\n",
      "  CBP_12[\"category\"] = CBP_12[\"naics\"].map({naics_code: category_name for category_name, naics_codes in naics_dict.items() for naics_code in naics_codes})\n",
      "/var/folders/14/jyndvv096sqbkr5m6qz77nl40000gn/T/ipykernel_22529/3308171288.py:25: SettingWithCopyWarning: \n",
      "A value is trying to be set on a copy of a slice from a DataFrame.\n",
      "Try using .loc[row_indexer,col_indexer] = value instead\n",
      "\n",
      "See the caveats in the documentation: https://pandas.pydata.org/pandas-docs/stable/user_guide/indexing.html#returning-a-view-versus-a-copy\n",
      "  CBP_20[\"category\"] = CBP_20[\"naics\"].map({naics_code: category_name for category_name, naics_codes in naics_dict.items() for naics_code in naics_codes})\n"
     ]
    }
   ],
   "source": [
    "# create a dictionary with the category names and corresponding 2-digit NAICS codes\n",
    "naics_dict = {\"Agriculture, forestry, fishing, and hunting\": [\"11\"],\n",
    "              \"Mining\": [\"21\"],\n",
    "              \"Utilities\": [\"22\"],\n",
    "              \"Construction\": [\"23\"],\n",
    "              \"Manufacturing\": [\"31\", \"32\", \"33\"],\n",
    "              \"Wholesale trade\": [\"42\"],\n",
    "              \"Retail trade\": [\"44\", \"45\"],\n",
    "              \"Transportation and warehousing\": [\"48\", \"49\"],\n",
    "              \"Information\": [\"51\"],\n",
    "              \"Finance and insurance\": [\"52\"],\n",
    "              \"Real estate and rental and leasing\": [\"53\"],\n",
    "              \"Professional, scientific, and technical services\": [\"54\"],\n",
    "              \"Management of companies and enterprises\": [\"55\"],\n",
    "              \"Administrative and support and waste management and remediation services\": [\"56\"],\n",
    "              \"Educational services\": [\"61\"],\n",
    "              \"Health care and social assistance\": [\"62\"],\n",
    "              \"Arts, entertainment, and recreation\": [\"71\"],\n",
    "              \"Accommodation and food services\": [\"72\"],\n",
    "              \"Other services (except public administration)\": [\"81\"],\n",
    "              \"Public administration\": [\"92\"]}\n",
    "\n",
    "# map the category names to the naics column\n",
    "CBP_12[\"category\"] = CBP_12[\"naics\"].map({naics_code: category_name for category_name, naics_codes in naics_dict.items() for naics_code in naics_codes})\n",
    "CBP_20[\"category\"] = CBP_20[\"naics\"].map({naics_code: category_name for category_name, naics_codes in naics_dict.items() for naics_code in naics_codes})\n",
    "\n",
    "\n",
    "# filter out empty categories\n",
    "CBP_12 = CBP_12[CBP_12[\"category\"].notnull()]\n",
    "CBP_20 = CBP_20[CBP_20[\"category\"].notnull()]\n"
   ]
  },
  {
   "cell_type": "code",
   "execution_count": 13,
   "id": "0bb06acb",
   "metadata": {},
   "outputs": [
    {
     "name": "stderr",
     "output_type": "stream",
     "text": [
      "/var/folders/14/jyndvv096sqbkr5m6qz77nl40000gn/T/ipykernel_22529/2129421767.py:3: SettingWithCopyWarning: \n",
      "A value is trying to be set on a copy of a slice from a DataFrame.\n",
      "Try using .loc[row_indexer,col_indexer] = value instead\n",
      "\n",
      "See the caveats in the documentation: https://pandas.pydata.org/pandas-docs/stable/user_guide/indexing.html#returning-a-view-versus-a-copy\n",
      "  CBP_12['fipstate'] = CBP_12['fipstate'].apply(lambda x: '{0:0>2}'.format(x))\n",
      "/var/folders/14/jyndvv096sqbkr5m6qz77nl40000gn/T/ipykernel_22529/2129421767.py:4: SettingWithCopyWarning: \n",
      "A value is trying to be set on a copy of a slice from a DataFrame.\n",
      "Try using .loc[row_indexer,col_indexer] = value instead\n",
      "\n",
      "See the caveats in the documentation: https://pandas.pydata.org/pandas-docs/stable/user_guide/indexing.html#returning-a-view-versus-a-copy\n",
      "  CBP_12['fipscty'] = CBP_12['fipscty'].apply(lambda x: '{0:0>3}'.format(x))\n",
      "/var/folders/14/jyndvv096sqbkr5m6qz77nl40000gn/T/ipykernel_22529/2129421767.py:7: SettingWithCopyWarning: \n",
      "A value is trying to be set on a copy of a slice from a DataFrame.\n",
      "Try using .loc[row_indexer,col_indexer] = value instead\n",
      "\n",
      "See the caveats in the documentation: https://pandas.pydata.org/pandas-docs/stable/user_guide/indexing.html#returning-a-view-versus-a-copy\n",
      "  CBP_12['fips'] = CBP_12['fipstate'] + CBP_12['fipscty']\n",
      "/var/folders/14/jyndvv096sqbkr5m6qz77nl40000gn/T/ipykernel_22529/2129421767.py:10: SettingWithCopyWarning: \n",
      "A value is trying to be set on a copy of a slice from a DataFrame\n",
      "\n",
      "See the caveats in the documentation: https://pandas.pydata.org/pandas-docs/stable/user_guide/indexing.html#returning-a-view-versus-a-copy\n",
      "  CBP_12.drop(['fipstate', 'fipscty'], axis=1, inplace=True)\n",
      "/var/folders/14/jyndvv096sqbkr5m6qz77nl40000gn/T/ipykernel_22529/2129421767.py:14: SettingWithCopyWarning: \n",
      "A value is trying to be set on a copy of a slice from a DataFrame.\n",
      "Try using .loc[row_indexer,col_indexer] = value instead\n",
      "\n",
      "See the caveats in the documentation: https://pandas.pydata.org/pandas-docs/stable/user_guide/indexing.html#returning-a-view-versus-a-copy\n",
      "  CBP_20['fipstate'] = CBP_20['fipstate'].apply(lambda x: '{0:0>2}'.format(x))\n",
      "/var/folders/14/jyndvv096sqbkr5m6qz77nl40000gn/T/ipykernel_22529/2129421767.py:15: SettingWithCopyWarning: \n",
      "A value is trying to be set on a copy of a slice from a DataFrame.\n",
      "Try using .loc[row_indexer,col_indexer] = value instead\n",
      "\n",
      "See the caveats in the documentation: https://pandas.pydata.org/pandas-docs/stable/user_guide/indexing.html#returning-a-view-versus-a-copy\n",
      "  CBP_20['fipscty'] = CBP_20['fipscty'].apply(lambda x: '{0:0>3}'.format(x))\n",
      "/var/folders/14/jyndvv096sqbkr5m6qz77nl40000gn/T/ipykernel_22529/2129421767.py:18: SettingWithCopyWarning: \n",
      "A value is trying to be set on a copy of a slice from a DataFrame.\n",
      "Try using .loc[row_indexer,col_indexer] = value instead\n",
      "\n",
      "See the caveats in the documentation: https://pandas.pydata.org/pandas-docs/stable/user_guide/indexing.html#returning-a-view-versus-a-copy\n",
      "  CBP_20['fips'] = CBP_20['fipstate'] + CBP_20['fipscty']\n",
      "/var/folders/14/jyndvv096sqbkr5m6qz77nl40000gn/T/ipykernel_22529/2129421767.py:21: SettingWithCopyWarning: \n",
      "A value is trying to be set on a copy of a slice from a DataFrame\n",
      "\n",
      "See the caveats in the documentation: https://pandas.pydata.org/pandas-docs/stable/user_guide/indexing.html#returning-a-view-versus-a-copy\n",
      "  CBP_20.drop(['fipstate', 'fipscty'], axis=1, inplace=True)\n"
     ]
    }
   ],
   "source": [
    "# 2012 Data\n",
    "# add leading zeros to 'fipstate' and 'fipscty' columns\n",
    "CBP_12['fipstate'] = CBP_12['fipstate'].apply(lambda x: '{0:0>2}'.format(x))\n",
    "CBP_12['fipscty'] = CBP_12['fipscty'].apply(lambda x: '{0:0>3}'.format(x))\n",
    "\n",
    "# combine 'fipstate' and 'fipscty' columns into a new 'fips' column\n",
    "CBP_12['fips'] = CBP_12['fipstate'] + CBP_12['fipscty']\n",
    "\n",
    "# drop 'fipstate' and 'fipscty' columns\n",
    "CBP_12.drop(['fipstate', 'fipscty'], axis=1, inplace=True)\n",
    "\n",
    "#2020 Data\n",
    "# add leading zeros to 'fipstate' and 'fipscty' columns\n",
    "CBP_20['fipstate'] = CBP_20['fipstate'].apply(lambda x: '{0:0>2}'.format(x))\n",
    "CBP_20['fipscty'] = CBP_20['fipscty'].apply(lambda x: '{0:0>3}'.format(x))\n",
    "\n",
    "# combine 'fipstate' and 'fipscty' columns into a new 'fips' column\n",
    "CBP_20['fips'] = CBP_20['fipstate'] + CBP_20['fipscty']\n",
    "\n",
    "# drop 'fipstate' and 'fipscty' columns\n",
    "CBP_20.drop(['fipstate', 'fipscty'], axis=1, inplace=True)"
   ]
  },
  {
   "cell_type": "code",
   "execution_count": 14,
   "id": "9eed8c79",
   "metadata": {},
   "outputs": [
    {
     "name": "stderr",
     "output_type": "stream",
     "text": [
      "/var/folders/14/jyndvv096sqbkr5m6qz77nl40000gn/T/ipykernel_22529/4113668537.py:2: FutureWarning: The default value of numeric_only in DataFrameGroupBy.sum is deprecated. In a future version, numeric_only will default to False. Either specify numeric_only or select only columns which should be valid for the function.\n",
      "  CBP_12_Grouped = CBP_12.groupby(['fips'], as_index=False).sum().reindex()\n",
      "/var/folders/14/jyndvv096sqbkr5m6qz77nl40000gn/T/ipykernel_22529/4113668537.py:6: FutureWarning: The default value of numeric_only in DataFrameGroupBy.sum is deprecated. In a future version, numeric_only will default to False. Either specify numeric_only or select only columns which should be valid for the function.\n",
      "  CBP_20_Grouped = CBP_20.groupby(['fips'], as_index=False).sum().reindex()\n"
     ]
    }
   ],
   "source": [
    "#CBP_12_Grouped = CBP_12.groupby(['fips', 'category'], as_index=False).sum().reindex()\n",
    "CBP_12_Grouped = CBP_12.groupby(['fips'], as_index=False).sum().reindex()\n",
    "CBP_12_Grouped = CBP_12_Grouped.drop_duplicates()\n",
    "\n",
    "#CBP_20_Grouped = CBP_20.groupby(['fips', 'category'], as_index=False).sum().reindex()\n",
    "CBP_20_Grouped = CBP_20.groupby(['fips'], as_index=False).sum().reindex()\n",
    "CBP_20_Grouped = CBP_20_Grouped.drop_duplicates()"
   ]
  },
  {
   "cell_type": "code",
   "execution_count": 15,
   "id": "0eb384b5",
   "metadata": {},
   "outputs": [],
   "source": [
    "FDI_df_12 = pd.merge(county[['FIPS','NAME', 'STATE_NAME']], \n",
    "                 CBP_12_Grouped[['fips','1000less', '1000to5000','5000more']], \n",
    "                 left_on='FIPS', right_on='fips', how = 'inner')\n",
    "\n",
    "FDI_df_12.drop(['FIPS','fips'], axis=1, inplace=True)\n",
    "\n",
    "FDI_df_20 = pd.merge(county[['FIPS','NAME', 'STATE_NAME']], \n",
    "                 CBP_12_Grouped[['fips','1000less', '1000to5000','5000more']], \n",
    "                 left_on='FIPS', right_on='fips', how = 'inner')\n",
    "\n",
    "FDI_df_20.drop(['FIPS','fips'], axis=1, inplace=True)"
   ]
  },
  {
   "cell_type": "code",
   "execution_count": 16,
   "id": "937a7911",
   "metadata": {},
   "outputs": [
    {
     "data": {
      "text/html": [
       "<div>\n",
       "<style scoped>\n",
       "    .dataframe tbody tr th:only-of-type {\n",
       "        vertical-align: middle;\n",
       "    }\n",
       "\n",
       "    .dataframe tbody tr th {\n",
       "        vertical-align: top;\n",
       "    }\n",
       "\n",
       "    .dataframe thead th {\n",
       "        text-align: right;\n",
       "    }\n",
       "</style>\n",
       "<table border=\"1\" class=\"dataframe\">\n",
       "  <thead>\n",
       "    <tr style=\"text-align: right;\">\n",
       "      <th></th>\n",
       "      <th>NAME</th>\n",
       "      <th>STATE_NAME</th>\n",
       "      <th>1000less</th>\n",
       "      <th>1000to5000</th>\n",
       "      <th>5000more</th>\n",
       "    </tr>\n",
       "  </thead>\n",
       "  <tbody>\n",
       "    <tr>\n",
       "      <th>0</th>\n",
       "      <td>Lake of the Woods County</td>\n",
       "      <td>Minnesota</td>\n",
       "      <td>790</td>\n",
       "      <td>0</td>\n",
       "      <td>0</td>\n",
       "    </tr>\n",
       "    <tr>\n",
       "      <th>1</th>\n",
       "      <td>Ferry County</td>\n",
       "      <td>Washington</td>\n",
       "      <td>675</td>\n",
       "      <td>0</td>\n",
       "      <td>0</td>\n",
       "    </tr>\n",
       "  </tbody>\n",
       "</table>\n",
       "</div>"
      ],
      "text/plain": [
       "                       NAME  STATE_NAME  1000less  1000to5000  5000more\n",
       "0  Lake of the Woods County   Minnesota       790           0         0\n",
       "1              Ferry County  Washington       675           0         0"
      ]
     },
     "execution_count": 16,
     "metadata": {},
     "output_type": "execute_result"
    }
   ],
   "source": [
    "FDI_df_12.head(2)"
   ]
  },
  {
   "cell_type": "code",
   "execution_count": 17,
   "id": "4bab648c",
   "metadata": {},
   "outputs": [
    {
     "data": {
      "text/html": [
       "<div>\n",
       "<style scoped>\n",
       "    .dataframe tbody tr th:only-of-type {\n",
       "        vertical-align: middle;\n",
       "    }\n",
       "\n",
       "    .dataframe tbody tr th {\n",
       "        vertical-align: top;\n",
       "    }\n",
       "\n",
       "    .dataframe thead th {\n",
       "        text-align: right;\n",
       "    }\n",
       "</style>\n",
       "<table border=\"1\" class=\"dataframe\">\n",
       "  <thead>\n",
       "    <tr style=\"text-align: right;\">\n",
       "      <th></th>\n",
       "      <th>NAME</th>\n",
       "      <th>STATE_NAME</th>\n",
       "      <th>1000less</th>\n",
       "      <th>1000to5000</th>\n",
       "      <th>5000more</th>\n",
       "    </tr>\n",
       "  </thead>\n",
       "  <tbody>\n",
       "    <tr>\n",
       "      <th>0</th>\n",
       "      <td>Lake of the Woods County</td>\n",
       "      <td>Minnesota</td>\n",
       "      <td>790</td>\n",
       "      <td>0</td>\n",
       "      <td>0</td>\n",
       "    </tr>\n",
       "    <tr>\n",
       "      <th>1</th>\n",
       "      <td>Ferry County</td>\n",
       "      <td>Washington</td>\n",
       "      <td>675</td>\n",
       "      <td>0</td>\n",
       "      <td>0</td>\n",
       "    </tr>\n",
       "  </tbody>\n",
       "</table>\n",
       "</div>"
      ],
      "text/plain": [
       "                       NAME  STATE_NAME  1000less  1000to5000  5000more\n",
       "0  Lake of the Woods County   Minnesota       790           0         0\n",
       "1              Ferry County  Washington       675           0         0"
      ]
     },
     "execution_count": 17,
     "metadata": {},
     "output_type": "execute_result"
    }
   ],
   "source": [
    "FDI_df_20.head(2)"
   ]
  },
  {
   "cell_type": "markdown",
   "id": "adcca6e3",
   "metadata": {},
   "source": [
    "### III. Quarterly Census of Employment and Wages  (QCEW)"
   ]
  },
  {
   "cell_type": "code",
   "execution_count": 18,
   "id": "f058da78",
   "metadata": {},
   "outputs": [
    {
     "name": "stderr",
     "output_type": "stream",
     "text": [
      "/var/folders/14/jyndvv096sqbkr5m6qz77nl40000gn/T/ipykernel_22529/2790758331.py:1: DtypeWarning: Columns (1) have mixed types. Specify dtype option on import or set low_memory=False.\n",
      "  QCEW_12 = pd.read_csv('QCEW/allhlcn12.csv')\n",
      "/var/folders/14/jyndvv096sqbkr5m6qz77nl40000gn/T/ipykernel_22529/2790758331.py:2: DtypeWarning: Columns (1) have mixed types. Specify dtype option on import or set low_memory=False.\n",
      "  QCEW_20 = pd.read_csv('QCEW/allhlcn20.csv')\n"
     ]
    }
   ],
   "source": [
    "QCEW_12 = pd.read_csv('QCEW/allhlcn12.csv')\n",
    "QCEW_20 = pd.read_csv('QCEW/allhlcn20.csv')"
   ]
  },
  {
   "cell_type": "code",
   "execution_count": 19,
   "id": "dc749797",
   "metadata": {},
   "outputs": [
    {
     "name": "stdout",
     "output_type": "stream",
     "text": [
      "62555\n"
     ]
    },
    {
     "data": {
      "text/html": [
       "<div>\n",
       "<style scoped>\n",
       "    .dataframe tbody tr th:only-of-type {\n",
       "        vertical-align: middle;\n",
       "    }\n",
       "\n",
       "    .dataframe tbody tr th {\n",
       "        vertical-align: top;\n",
       "    }\n",
       "\n",
       "    .dataframe thead th {\n",
       "        text-align: right;\n",
       "    }\n",
       "</style>\n",
       "<table border=\"1\" class=\"dataframe\">\n",
       "  <thead>\n",
       "    <tr style=\"text-align: right;\">\n",
       "      <th></th>\n",
       "      <th>Area\\nCode</th>\n",
       "      <th>St</th>\n",
       "      <th>Cnty</th>\n",
       "      <th>Own</th>\n",
       "      <th>NAICS</th>\n",
       "      <th>Year</th>\n",
       "      <th>Qtr</th>\n",
       "      <th>Area Type</th>\n",
       "      <th>St Name</th>\n",
       "      <th>Area</th>\n",
       "      <th>Ownership</th>\n",
       "      <th>Industry</th>\n",
       "      <th>Annual Average Status Code</th>\n",
       "      <th>Annual Average Establishment Count</th>\n",
       "      <th>Annual Average Employment</th>\n",
       "      <th>Annual Total Wages</th>\n",
       "      <th>Annual Average Weekly Wage</th>\n",
       "      <th>Annual Average Pay</th>\n",
       "      <th>Employment Location Quotient Relative to U.S.</th>\n",
       "      <th>Total Wage Location Quotient Relative to U.S.</th>\n",
       "    </tr>\n",
       "  </thead>\n",
       "  <tbody>\n",
       "    <tr>\n",
       "      <th>0</th>\n",
       "      <td>US000</td>\n",
       "      <td>US</td>\n",
       "      <td>0.0</td>\n",
       "      <td>0</td>\n",
       "      <td>10</td>\n",
       "      <td>2012</td>\n",
       "      <td>A</td>\n",
       "      <td>Nation</td>\n",
       "      <td>NaN</td>\n",
       "      <td>U.S. TOTAL</td>\n",
       "      <td>Total Covered</td>\n",
       "      <td>Total, all industries</td>\n",
       "      <td>NaN</td>\n",
       "      <td>9,121,868</td>\n",
       "      <td>131,696,378</td>\n",
       "      <td>6,491,224,497,893</td>\n",
       "      <td>948</td>\n",
       "      <td>49,289</td>\n",
       "      <td>1.0</td>\n",
       "      <td>1.0</td>\n",
       "    </tr>\n",
       "    <tr>\n",
       "      <th>1</th>\n",
       "      <td>US000</td>\n",
       "      <td>US</td>\n",
       "      <td>0.0</td>\n",
       "      <td>1</td>\n",
       "      <td>10</td>\n",
       "      <td>2012</td>\n",
       "      <td>A</td>\n",
       "      <td>Nation</td>\n",
       "      <td>NaN</td>\n",
       "      <td>U.S. TOTAL</td>\n",
       "      <td>Federal Government</td>\n",
       "      <td>Total, all industries</td>\n",
       "      <td>NaN</td>\n",
       "      <td>65,076</td>\n",
       "      <td>2,820,722</td>\n",
       "      <td>206,871,277,590</td>\n",
       "      <td>1,410</td>\n",
       "      <td>73,340</td>\n",
       "      <td>1.0</td>\n",
       "      <td>1.0</td>\n",
       "    </tr>\n",
       "  </tbody>\n",
       "</table>\n",
       "</div>"
      ],
      "text/plain": [
       "  Area\\nCode  St  Cnty  Own  NAICS  Year Qtr Area Type St Name        Area  \\\n",
       "0      US000  US   0.0    0     10  2012   A    Nation     NaN  U.S. TOTAL   \n",
       "1      US000  US   0.0    1     10  2012   A    Nation     NaN  U.S. TOTAL   \n",
       "\n",
       "            Ownership               Industry Annual Average Status Code  \\\n",
       "0       Total Covered  Total, all industries                        NaN   \n",
       "1  Federal Government  Total, all industries                        NaN   \n",
       "\n",
       "  Annual Average Establishment Count Annual Average Employment  \\\n",
       "0                          9,121,868               131,696,378   \n",
       "1                             65,076                 2,820,722   \n",
       "\n",
       "  Annual Total Wages Annual Average Weekly Wage Annual Average Pay  \\\n",
       "0  6,491,224,497,893                        948             49,289   \n",
       "1    206,871,277,590                      1,410             73,340   \n",
       "\n",
       "   Employment Location Quotient Relative to U.S.  \\\n",
       "0                                            1.0   \n",
       "1                                            1.0   \n",
       "\n",
       "   Total Wage Location Quotient Relative to U.S.  \n",
       "0                                            1.0  \n",
       "1                                            1.0  "
      ]
     },
     "execution_count": 19,
     "metadata": {},
     "output_type": "execute_result"
    }
   ],
   "source": [
    "print(len(QCEW_12))\n",
    "QCEW_12.head(2)"
   ]
  },
  {
   "cell_type": "code",
   "execution_count": 20,
   "id": "81a84c9a",
   "metadata": {},
   "outputs": [
    {
     "name": "stdout",
     "output_type": "stream",
     "text": [
      "62892\n"
     ]
    },
    {
     "data": {
      "text/html": [
       "<div>\n",
       "<style scoped>\n",
       "    .dataframe tbody tr th:only-of-type {\n",
       "        vertical-align: middle;\n",
       "    }\n",
       "\n",
       "    .dataframe tbody tr th {\n",
       "        vertical-align: top;\n",
       "    }\n",
       "\n",
       "    .dataframe thead th {\n",
       "        text-align: right;\n",
       "    }\n",
       "</style>\n",
       "<table border=\"1\" class=\"dataframe\">\n",
       "  <thead>\n",
       "    <tr style=\"text-align: right;\">\n",
       "      <th></th>\n",
       "      <th>Area\\nCode</th>\n",
       "      <th>St</th>\n",
       "      <th>Cnty</th>\n",
       "      <th>Own</th>\n",
       "      <th>NAICS</th>\n",
       "      <th>Year</th>\n",
       "      <th>Qtr</th>\n",
       "      <th>Area Type</th>\n",
       "      <th>St Name</th>\n",
       "      <th>Area</th>\n",
       "      <th>Ownership</th>\n",
       "      <th>Industry</th>\n",
       "      <th>Annual Average Status Code</th>\n",
       "      <th>Annual Average Establishment Count</th>\n",
       "      <th>Annual Average Employment</th>\n",
       "      <th>Annual Total Wages</th>\n",
       "      <th>Annual Average Weekly Wage</th>\n",
       "      <th>Annual Average Pay</th>\n",
       "      <th>Employment Location Quotient Relative to U.S.</th>\n",
       "      <th>Total Wage Location Quotient Relative to U.S.</th>\n",
       "    </tr>\n",
       "  </thead>\n",
       "  <tbody>\n",
       "    <tr>\n",
       "      <th>0</th>\n",
       "      <td>US000</td>\n",
       "      <td>US</td>\n",
       "      <td>0.0</td>\n",
       "      <td>0</td>\n",
       "      <td>10</td>\n",
       "      <td>2020</td>\n",
       "      <td>A</td>\n",
       "      <td>Nation</td>\n",
       "      <td>NaN</td>\n",
       "      <td>U.S. TOTAL</td>\n",
       "      <td>Total Covered</td>\n",
       "      <td>10 Total, all industries</td>\n",
       "      <td>NaN</td>\n",
       "      <td>10,487,687</td>\n",
       "      <td>139,103,773</td>\n",
       "      <td>8,905,606,771,748</td>\n",
       "      <td>1,231</td>\n",
       "      <td>64,021</td>\n",
       "      <td>1.0</td>\n",
       "      <td>1.0</td>\n",
       "    </tr>\n",
       "    <tr>\n",
       "      <th>1</th>\n",
       "      <td>US000</td>\n",
       "      <td>US</td>\n",
       "      <td>0.0</td>\n",
       "      <td>1</td>\n",
       "      <td>10</td>\n",
       "      <td>2020</td>\n",
       "      <td>A</td>\n",
       "      <td>Nation</td>\n",
       "      <td>NaN</td>\n",
       "      <td>U.S. TOTAL</td>\n",
       "      <td>Federal Government</td>\n",
       "      <td>10 Total, all industries</td>\n",
       "      <td>NaN</td>\n",
       "      <td>61,310</td>\n",
       "      <td>2,928,036</td>\n",
       "      <td>250,251,253,418</td>\n",
       "      <td>1,644</td>\n",
       "      <td>85,467</td>\n",
       "      <td>1.0</td>\n",
       "      <td>1.0</td>\n",
       "    </tr>\n",
       "  </tbody>\n",
       "</table>\n",
       "</div>"
      ],
      "text/plain": [
       "  Area\\nCode  St  Cnty  Own  NAICS  Year Qtr Area Type St Name        Area  \\\n",
       "0      US000  US   0.0    0     10  2020   A    Nation     NaN  U.S. TOTAL   \n",
       "1      US000  US   0.0    1     10  2020   A    Nation     NaN  U.S. TOTAL   \n",
       "\n",
       "            Ownership                  Industry Annual Average Status Code  \\\n",
       "0       Total Covered  10 Total, all industries                        NaN   \n",
       "1  Federal Government  10 Total, all industries                        NaN   \n",
       "\n",
       "  Annual Average Establishment Count Annual Average Employment  \\\n",
       "0                         10,487,687               139,103,773   \n",
       "1                             61,310                 2,928,036   \n",
       "\n",
       "  Annual Total Wages Annual Average Weekly Wage Annual Average Pay  \\\n",
       "0  8,905,606,771,748                      1,231             64,021   \n",
       "1    250,251,253,418                      1,644             85,467   \n",
       "\n",
       "   Employment Location Quotient Relative to U.S.  \\\n",
       "0                                            1.0   \n",
       "1                                            1.0   \n",
       "\n",
       "   Total Wage Location Quotient Relative to U.S.  \n",
       "0                                            1.0  \n",
       "1                                            1.0  "
      ]
     },
     "execution_count": 20,
     "metadata": {},
     "output_type": "execute_result"
    }
   ],
   "source": [
    "print(len(QCEW_20))\n",
    "QCEW_20.head(2)"
   ]
  },
  {
   "cell_type": "code",
   "execution_count": 21,
   "id": "c50cfbc1",
   "metadata": {},
   "outputs": [],
   "source": [
    "QCEW_12 = QCEW_12[QCEW_12[\"Area Type\"] == \"County\"]\n",
    "QCEW_12 = QCEW_12[QCEW_12[\"Industry\"] == \"Total, all industries\"]\n",
    "QCEW_12[['county', 'state']] = QCEW_12['Area'].str.split(', ', expand=True)\n",
    "\n",
    "QCEW_12 = QCEW_12[['county', 'state','Annual Average Establishment Count',\n",
    "                   'Annual Average Employment', 'Annual Total Wages', 'Annual Average Pay']]\n",
    "\n",
    "QCEW_20 = QCEW_20[QCEW_20[\"Area Type\"] == \"County\"]\n",
    "QCEW_20 = QCEW_20[QCEW_20[\"Industry\"] == \"10 Total, all industries\"]\n",
    "QCEW_20[['county', 'state']] = QCEW_20['Area'].str.split(', ', expand=True)\n",
    "\n",
    "QCEW_20 = QCEW_20[['county', 'state', 'Annual Average Establishment Count',\n",
    "                   'Annual Average Employment', 'Annual Total Wages', 'Annual Average Pay']]"
   ]
  },
  {
   "cell_type": "code",
   "execution_count": 22,
   "id": "2e849c98",
   "metadata": {},
   "outputs": [],
   "source": [
    "QCEW_12['Annual Average Establishment Count'] = QCEW_12['Annual Average Establishment Count'].str.replace(',', '').astype(int)\n",
    "QCEW_12['Annual Average Employment'] = QCEW_12['Annual Average Employment'].str.replace(',', '').astype(int)\n",
    "QCEW_12['Annual Total Wages'] = QCEW_12['Annual Total Wages'].str.replace(',', '').astype(int)\n",
    "QCEW_12['Annual Average Pay'] = QCEW_12['Annual Average Pay'].str.replace(',', '').astype(int)\n",
    "\n",
    "QCEW_20['Annual Average Establishment Count'] = QCEW_20['Annual Average Establishment Count'].str.replace(',', '').astype(int)\n",
    "QCEW_20['Annual Average Employment'] = QCEW_20['Annual Average Employment'].str.replace(',', '').astype(int)\n",
    "QCEW_20['Annual Total Wages'] = QCEW_20['Annual Total Wages'].str.replace(',', '').astype(int)\n",
    "QCEW_20['Annual Average Pay'] = QCEW_20['Annual Average Pay'].str.replace(',', '').astype(int)"
   ]
  },
  {
   "cell_type": "code",
   "execution_count": 23,
   "id": "f7f3aee1",
   "metadata": {},
   "outputs": [],
   "source": [
    "QCEW_12_Grouped = QCEW_12.groupby(['county', 'state'], as_index=False).sum().reindex()\n",
    "QCEW_12_Grouped = QCEW_12_Grouped.drop_duplicates()\n",
    "QCEW_20_Grouped = QCEW_20.groupby(['county', 'state'], as_index=False).sum().reindex()\n",
    "QCEW_20_Grouped = QCEW_20_Grouped.drop_duplicates()"
   ]
  },
  {
   "cell_type": "code",
   "execution_count": 24,
   "id": "ea876a81",
   "metadata": {},
   "outputs": [],
   "source": [
    "FDI_df_12_1 = pd.merge(QCEW_12_Grouped, FDI_df_12,\n",
    "                 left_on=['county', 'state'], right_on=['NAME','STATE_NAME'], how = 'inner')\n",
    "\n",
    "FDI_df_12_1.drop(['NAME','STATE_NAME'], axis=1, inplace=True)\n",
    "\n",
    "FDI_df_20_1 = pd.merge(QCEW_20_Grouped, FDI_df_20,\n",
    "                 left_on=['county', 'state'], right_on=['NAME','STATE_NAME'], how = 'inner')\n",
    "\n",
    "FDI_df_20_1.drop(['NAME','STATE_NAME'], axis=1, inplace=True)"
   ]
  },
  {
   "cell_type": "code",
   "execution_count": 25,
   "id": "e91ec14c",
   "metadata": {},
   "outputs": [
    {
     "data": {
      "text/html": [
       "<div>\n",
       "<style scoped>\n",
       "    .dataframe tbody tr th:only-of-type {\n",
       "        vertical-align: middle;\n",
       "    }\n",
       "\n",
       "    .dataframe tbody tr th {\n",
       "        vertical-align: top;\n",
       "    }\n",
       "\n",
       "    .dataframe thead th {\n",
       "        text-align: right;\n",
       "    }\n",
       "</style>\n",
       "<table border=\"1\" class=\"dataframe\">\n",
       "  <thead>\n",
       "    <tr style=\"text-align: right;\">\n",
       "      <th></th>\n",
       "      <th>county</th>\n",
       "      <th>state</th>\n",
       "      <th>Annual Average Establishment Count</th>\n",
       "      <th>Annual Average Employment</th>\n",
       "      <th>Annual Total Wages</th>\n",
       "      <th>Annual Average Pay</th>\n",
       "      <th>1000less</th>\n",
       "      <th>1000to5000</th>\n",
       "      <th>5000more</th>\n",
       "    </tr>\n",
       "  </thead>\n",
       "  <tbody>\n",
       "    <tr>\n",
       "      <th>0</th>\n",
       "      <td>Abbeville County</td>\n",
       "      <td>South Carolina</td>\n",
       "      <td>700</td>\n",
       "      <td>11053</td>\n",
       "      <td>340296068</td>\n",
       "      <td>175341</td>\n",
       "      <td>1685</td>\n",
       "      <td>0</td>\n",
       "      <td>0</td>\n",
       "    </tr>\n",
       "    <tr>\n",
       "      <th>1</th>\n",
       "      <td>Accomack County</td>\n",
       "      <td>Virginia</td>\n",
       "      <td>1898</td>\n",
       "      <td>25307</td>\n",
       "      <td>827518166</td>\n",
       "      <td>209313</td>\n",
       "      <td>3860</td>\n",
       "      <td>10</td>\n",
       "      <td>0</td>\n",
       "    </tr>\n",
       "  </tbody>\n",
       "</table>\n",
       "</div>"
      ],
      "text/plain": [
       "             county           state  Annual Average Establishment Count  \\\n",
       "0  Abbeville County  South Carolina                                 700   \n",
       "1   Accomack County        Virginia                                1898   \n",
       "\n",
       "   Annual Average Employment  Annual Total Wages  Annual Average Pay  \\\n",
       "0                      11053           340296068              175341   \n",
       "1                      25307           827518166              209313   \n",
       "\n",
       "   1000less  1000to5000  5000more  \n",
       "0      1685           0         0  \n",
       "1      3860          10         0  "
      ]
     },
     "execution_count": 25,
     "metadata": {},
     "output_type": "execute_result"
    }
   ],
   "source": [
    "FDI_df_12_1.head(2)"
   ]
  },
  {
   "cell_type": "code",
   "execution_count": 26,
   "id": "ac68ddd4",
   "metadata": {},
   "outputs": [
    {
     "data": {
      "text/html": [
       "<div>\n",
       "<style scoped>\n",
       "    .dataframe tbody tr th:only-of-type {\n",
       "        vertical-align: middle;\n",
       "    }\n",
       "\n",
       "    .dataframe tbody tr th {\n",
       "        vertical-align: top;\n",
       "    }\n",
       "\n",
       "    .dataframe thead th {\n",
       "        text-align: right;\n",
       "    }\n",
       "</style>\n",
       "<table border=\"1\" class=\"dataframe\">\n",
       "  <thead>\n",
       "    <tr style=\"text-align: right;\">\n",
       "      <th></th>\n",
       "      <th>county</th>\n",
       "      <th>state</th>\n",
       "      <th>Annual Average Establishment Count</th>\n",
       "      <th>Annual Average Employment</th>\n",
       "      <th>Annual Total Wages</th>\n",
       "      <th>Annual Average Pay</th>\n",
       "      <th>1000less</th>\n",
       "      <th>1000to5000</th>\n",
       "      <th>5000more</th>\n",
       "    </tr>\n",
       "  </thead>\n",
       "  <tbody>\n",
       "    <tr>\n",
       "      <th>0</th>\n",
       "      <td>Abbeville County</td>\n",
       "      <td>South Carolina</td>\n",
       "      <td>724</td>\n",
       "      <td>10629</td>\n",
       "      <td>434850330</td>\n",
       "      <td>212513</td>\n",
       "      <td>1685</td>\n",
       "      <td>0</td>\n",
       "      <td>0</td>\n",
       "    </tr>\n",
       "    <tr>\n",
       "      <th>1</th>\n",
       "      <td>Accomack County</td>\n",
       "      <td>Virginia</td>\n",
       "      <td>2148</td>\n",
       "      <td>24288</td>\n",
       "      <td>1076422962</td>\n",
       "      <td>256564</td>\n",
       "      <td>3860</td>\n",
       "      <td>10</td>\n",
       "      <td>0</td>\n",
       "    </tr>\n",
       "  </tbody>\n",
       "</table>\n",
       "</div>"
      ],
      "text/plain": [
       "             county           state  Annual Average Establishment Count  \\\n",
       "0  Abbeville County  South Carolina                                 724   \n",
       "1   Accomack County        Virginia                                2148   \n",
       "\n",
       "   Annual Average Employment  Annual Total Wages  Annual Average Pay  \\\n",
       "0                      10629           434850330              212513   \n",
       "1                      24288          1076422962              256564   \n",
       "\n",
       "   1000less  1000to5000  5000more  \n",
       "0      1685           0         0  \n",
       "1      3860          10         0  "
      ]
     },
     "execution_count": 26,
     "metadata": {},
     "output_type": "execute_result"
    }
   ],
   "source": [
    "FDI_df_20_1.head(2)"
   ]
  },
  {
   "cell_type": "markdown",
   "id": "cfcaa706",
   "metadata": {},
   "source": [
    "### IV. County Population"
   ]
  },
  {
   "cell_type": "code",
   "execution_count": 27,
   "id": "aef06226",
   "metadata": {},
   "outputs": [],
   "source": [
    "Population = pd.read_csv(\"Population/co-est2020-alldata.csv\", encoding='latin-1')"
   ]
  },
  {
   "cell_type": "code",
   "execution_count": 28,
   "id": "60570568",
   "metadata": {},
   "outputs": [
    {
     "name": "stdout",
     "output_type": "stream",
     "text": [
      "3194\n"
     ]
    },
    {
     "data": {
      "text/html": [
       "<div>\n",
       "<style scoped>\n",
       "    .dataframe tbody tr th:only-of-type {\n",
       "        vertical-align: middle;\n",
       "    }\n",
       "\n",
       "    .dataframe tbody tr th {\n",
       "        vertical-align: top;\n",
       "    }\n",
       "\n",
       "    .dataframe thead th {\n",
       "        text-align: right;\n",
       "    }\n",
       "</style>\n",
       "<table border=\"1\" class=\"dataframe\">\n",
       "  <thead>\n",
       "    <tr style=\"text-align: right;\">\n",
       "      <th></th>\n",
       "      <th>SUMLEV</th>\n",
       "      <th>REGION</th>\n",
       "      <th>DIVISION</th>\n",
       "      <th>STATE</th>\n",
       "      <th>COUNTY</th>\n",
       "      <th>STNAME</th>\n",
       "      <th>CTYNAME</th>\n",
       "      <th>CENSUS2010POP</th>\n",
       "      <th>ESTIMATESBASE2010</th>\n",
       "      <th>POPESTIMATE2010</th>\n",
       "      <th>...</th>\n",
       "      <th>RNETMIG2011</th>\n",
       "      <th>RNETMIG2012</th>\n",
       "      <th>RNETMIG2013</th>\n",
       "      <th>RNETMIG2014</th>\n",
       "      <th>RNETMIG2015</th>\n",
       "      <th>RNETMIG2016</th>\n",
       "      <th>RNETMIG2017</th>\n",
       "      <th>RNETMIG2018</th>\n",
       "      <th>RNETMIG2019</th>\n",
       "      <th>RNETMIG2020</th>\n",
       "    </tr>\n",
       "  </thead>\n",
       "  <tbody>\n",
       "    <tr>\n",
       "      <th>0</th>\n",
       "      <td>40</td>\n",
       "      <td>3</td>\n",
       "      <td>6</td>\n",
       "      <td>1</td>\n",
       "      <td>0</td>\n",
       "      <td>Alabama</td>\n",
       "      <td>Alabama</td>\n",
       "      <td>4779736</td>\n",
       "      <td>4780118</td>\n",
       "      <td>4785514</td>\n",
       "      <td>...</td>\n",
       "      <td>0.680010</td>\n",
       "      <td>1.282825</td>\n",
       "      <td>1.614391</td>\n",
       "      <td>0.653828</td>\n",
       "      <td>0.730419</td>\n",
       "      <td>0.854384</td>\n",
       "      <td>1.197150</td>\n",
       "      <td>1.966095</td>\n",
       "      <td>2.677866</td>\n",
       "      <td>3.091308</td>\n",
       "    </tr>\n",
       "    <tr>\n",
       "      <th>1</th>\n",
       "      <td>50</td>\n",
       "      <td>3</td>\n",
       "      <td>6</td>\n",
       "      <td>1</td>\n",
       "      <td>1</td>\n",
       "      <td>Alabama</td>\n",
       "      <td>Autauga County</td>\n",
       "      <td>54571</td>\n",
       "      <td>54582</td>\n",
       "      <td>54761</td>\n",
       "      <td>...</td>\n",
       "      <td>6.236931</td>\n",
       "      <td>-5.971016</td>\n",
       "      <td>-3.773344</td>\n",
       "      <td>2.206640</td>\n",
       "      <td>-1.529706</td>\n",
       "      <td>4.954403</td>\n",
       "      <td>0.993228</td>\n",
       "      <td>-0.018021</td>\n",
       "      <td>3.486011</td>\n",
       "      <td>6.290545</td>\n",
       "    </tr>\n",
       "  </tbody>\n",
       "</table>\n",
       "<p>2 rows × 180 columns</p>\n",
       "</div>"
      ],
      "text/plain": [
       "   SUMLEV  REGION  DIVISION  STATE  COUNTY   STNAME         CTYNAME  \\\n",
       "0      40       3         6      1       0  Alabama         Alabama   \n",
       "1      50       3         6      1       1  Alabama  Autauga County   \n",
       "\n",
       "  CENSUS2010POP  ESTIMATESBASE2010  POPESTIMATE2010  ...  RNETMIG2011  \\\n",
       "0       4779736            4780118          4785514  ...     0.680010   \n",
       "1         54571              54582            54761  ...     6.236931   \n",
       "\n",
       "   RNETMIG2012  RNETMIG2013  RNETMIG2014  RNETMIG2015  RNETMIG2016  \\\n",
       "0     1.282825     1.614391     0.653828     0.730419     0.854384   \n",
       "1    -5.971016    -3.773344     2.206640    -1.529706     4.954403   \n",
       "\n",
       "   RNETMIG2017  RNETMIG2018  RNETMIG2019  RNETMIG2020  \n",
       "0     1.197150     1.966095     2.677866     3.091308  \n",
       "1     0.993228    -0.018021     3.486011     6.290545  \n",
       "\n",
       "[2 rows x 180 columns]"
      ]
     },
     "execution_count": 28,
     "metadata": {},
     "output_type": "execute_result"
    }
   ],
   "source": [
    "print(len(Population))\n",
    "Population.head(2)"
   ]
  },
  {
   "cell_type": "code",
   "execution_count": 175,
   "id": "bbe5b2ff",
   "metadata": {},
   "outputs": [],
   "source": [
    "Population_12 = Population[[\"STNAME\", \"CTYNAME\", \"POPESTIMATE2012\", \"RDOMESTICMIG2012\", \"RINTERNATIONALMIG2012\", \"RNATURALINC2012\"]]\n",
    "Population_20 = Population[[\"STNAME\", \"CTYNAME\", \"POPESTIMATE2020\", \"RDOMESTICMIG2020\", \"RINTERNATIONALMIG2020\", \"RNATURALINC2020\"]]"
   ]
  },
  {
   "cell_type": "code",
   "execution_count": 176,
   "id": "3915d8b6",
   "metadata": {},
   "outputs": [
    {
     "data": {
      "text/html": [
       "<div>\n",
       "<style scoped>\n",
       "    .dataframe tbody tr th:only-of-type {\n",
       "        vertical-align: middle;\n",
       "    }\n",
       "\n",
       "    .dataframe tbody tr th {\n",
       "        vertical-align: top;\n",
       "    }\n",
       "\n",
       "    .dataframe thead th {\n",
       "        text-align: right;\n",
       "    }\n",
       "</style>\n",
       "<table border=\"1\" class=\"dataframe\">\n",
       "  <thead>\n",
       "    <tr style=\"text-align: right;\">\n",
       "      <th></th>\n",
       "      <th>STNAME</th>\n",
       "      <th>CTYNAME</th>\n",
       "      <th>POPESTIMATE2012</th>\n",
       "      <th>RDOMESTICMIG2012</th>\n",
       "      <th>RINTERNATIONALMIG2012</th>\n",
       "      <th>RNATURALINC2012</th>\n",
       "    </tr>\n",
       "  </thead>\n",
       "  <tbody>\n",
       "    <tr>\n",
       "      <th>0</th>\n",
       "      <td>Alabama</td>\n",
       "      <td>Alabama</td>\n",
       "      <td>4816632</td>\n",
       "      <td>-0.023710</td>\n",
       "      <td>1.306535</td>\n",
       "      <td>2.227682</td>\n",
       "    </tr>\n",
       "    <tr>\n",
       "      <th>1</th>\n",
       "      <td>Alabama</td>\n",
       "      <td>Autauga County</td>\n",
       "      <td>54970</td>\n",
       "      <td>-5.971016</td>\n",
       "      <td>0.000000</td>\n",
       "      <td>0.998194</td>\n",
       "    </tr>\n",
       "  </tbody>\n",
       "</table>\n",
       "</div>"
      ],
      "text/plain": [
       "    STNAME         CTYNAME  POPESTIMATE2012  RDOMESTICMIG2012  \\\n",
       "0  Alabama         Alabama          4816632         -0.023710   \n",
       "1  Alabama  Autauga County            54970         -5.971016   \n",
       "\n",
       "   RINTERNATIONALMIG2012  RNATURALINC2012  \n",
       "0               1.306535         2.227682  \n",
       "1               0.000000         0.998194  "
      ]
     },
     "execution_count": 176,
     "metadata": {},
     "output_type": "execute_result"
    }
   ],
   "source": [
    "Population_12.head(2)"
   ]
  },
  {
   "cell_type": "code",
   "execution_count": 177,
   "id": "a90cdbe1",
   "metadata": {},
   "outputs": [
    {
     "data": {
      "text/html": [
       "<div>\n",
       "<style scoped>\n",
       "    .dataframe tbody tr th:only-of-type {\n",
       "        vertical-align: middle;\n",
       "    }\n",
       "\n",
       "    .dataframe tbody tr th {\n",
       "        vertical-align: top;\n",
       "    }\n",
       "\n",
       "    .dataframe thead th {\n",
       "        text-align: right;\n",
       "    }\n",
       "</style>\n",
       "<table border=\"1\" class=\"dataframe\">\n",
       "  <thead>\n",
       "    <tr style=\"text-align: right;\">\n",
       "      <th></th>\n",
       "      <th>STNAME</th>\n",
       "      <th>CTYNAME</th>\n",
       "      <th>POPESTIMATE2020</th>\n",
       "      <th>RDOMESTICMIG2020</th>\n",
       "      <th>RINTERNATIONALMIG2020</th>\n",
       "      <th>RNATURALINC2020</th>\n",
       "    </tr>\n",
       "  </thead>\n",
       "  <tbody>\n",
       "    <tr>\n",
       "      <th>0</th>\n",
       "      <td>Alabama</td>\n",
       "      <td>Alabama</td>\n",
       "      <td>4921532</td>\n",
       "      <td>2.668499</td>\n",
       "      <td>0.422809</td>\n",
       "      <td>-0.328603</td>\n",
       "    </tr>\n",
       "    <tr>\n",
       "      <th>1</th>\n",
       "      <td>Alabama</td>\n",
       "      <td>Autauga County</td>\n",
       "      <td>56145</td>\n",
       "      <td>6.433511</td>\n",
       "      <td>-0.142967</td>\n",
       "      <td>0.428901</td>\n",
       "    </tr>\n",
       "  </tbody>\n",
       "</table>\n",
       "</div>"
      ],
      "text/plain": [
       "    STNAME         CTYNAME  POPESTIMATE2020  RDOMESTICMIG2020  \\\n",
       "0  Alabama         Alabama          4921532          2.668499   \n",
       "1  Alabama  Autauga County            56145          6.433511   \n",
       "\n",
       "   RINTERNATIONALMIG2020  RNATURALINC2020  \n",
       "0               0.422809        -0.328603  \n",
       "1              -0.142967         0.428901  "
      ]
     },
     "execution_count": 177,
     "metadata": {},
     "output_type": "execute_result"
    }
   ],
   "source": [
    "Population_20.head(2)"
   ]
  },
  {
   "cell_type": "code",
   "execution_count": 178,
   "id": "855a38a1",
   "metadata": {},
   "outputs": [],
   "source": [
    "FDI_df_12_2 = pd.merge(FDI_df_12_1, Population_12,\n",
    "                 left_on=['county', 'state'], right_on=['CTYNAME','STNAME'], how = 'inner')\n",
    "\n",
    "FDI_df_12_2.drop(['CTYNAME','STNAME'], axis=1, inplace=True)\n",
    "\n",
    "FDI_df_20_2 = pd.merge(FDI_df_20_1,Population_20, \n",
    "                 left_on=['county', 'state'], right_on=['CTYNAME','STNAME'], how = 'inner')\n",
    "\n",
    "FDI_df_20_2.drop(['CTYNAME','STNAME'], axis=1, inplace=True)"
   ]
  },
  {
   "cell_type": "code",
   "execution_count": 179,
   "id": "ea358490",
   "metadata": {},
   "outputs": [
    {
     "data": {
      "text/html": [
       "<div>\n",
       "<style scoped>\n",
       "    .dataframe tbody tr th:only-of-type {\n",
       "        vertical-align: middle;\n",
       "    }\n",
       "\n",
       "    .dataframe tbody tr th {\n",
       "        vertical-align: top;\n",
       "    }\n",
       "\n",
       "    .dataframe thead th {\n",
       "        text-align: right;\n",
       "    }\n",
       "</style>\n",
       "<table border=\"1\" class=\"dataframe\">\n",
       "  <thead>\n",
       "    <tr style=\"text-align: right;\">\n",
       "      <th></th>\n",
       "      <th>county</th>\n",
       "      <th>state</th>\n",
       "      <th>Annual Average Establishment Count</th>\n",
       "      <th>Annual Average Employment</th>\n",
       "      <th>Annual Total Wages</th>\n",
       "      <th>Annual Average Pay</th>\n",
       "      <th>1000less</th>\n",
       "      <th>1000to5000</th>\n",
       "      <th>5000more</th>\n",
       "      <th>POPESTIMATE2012</th>\n",
       "      <th>RDOMESTICMIG2012</th>\n",
       "      <th>RINTERNATIONALMIG2012</th>\n",
       "      <th>RNATURALINC2012</th>\n",
       "    </tr>\n",
       "  </thead>\n",
       "  <tbody>\n",
       "    <tr>\n",
       "      <th>0</th>\n",
       "      <td>Abbeville County</td>\n",
       "      <td>South Carolina</td>\n",
       "      <td>700</td>\n",
       "      <td>11053</td>\n",
       "      <td>340296068</td>\n",
       "      <td>175341</td>\n",
       "      <td>1685</td>\n",
       "      <td>0</td>\n",
       "      <td>0</td>\n",
       "      <td>25033</td>\n",
       "      <td>-4.229342</td>\n",
       "      <td>0.758090</td>\n",
       "      <td>1.157084</td>\n",
       "    </tr>\n",
       "    <tr>\n",
       "      <th>1</th>\n",
       "      <td>Accomack County</td>\n",
       "      <td>Virginia</td>\n",
       "      <td>1898</td>\n",
       "      <td>25307</td>\n",
       "      <td>827518166</td>\n",
       "      <td>209313</td>\n",
       "      <td>3860</td>\n",
       "      <td>10</td>\n",
       "      <td>0</td>\n",
       "      <td>33276</td>\n",
       "      <td>-1.804430</td>\n",
       "      <td>2.556276</td>\n",
       "      <td>0.992436</td>\n",
       "    </tr>\n",
       "  </tbody>\n",
       "</table>\n",
       "</div>"
      ],
      "text/plain": [
       "             county           state  Annual Average Establishment Count  \\\n",
       "0  Abbeville County  South Carolina                                 700   \n",
       "1   Accomack County        Virginia                                1898   \n",
       "\n",
       "   Annual Average Employment  Annual Total Wages  Annual Average Pay  \\\n",
       "0                      11053           340296068              175341   \n",
       "1                      25307           827518166              209313   \n",
       "\n",
       "   1000less  1000to5000  5000more  POPESTIMATE2012  RDOMESTICMIG2012  \\\n",
       "0      1685           0         0            25033         -4.229342   \n",
       "1      3860          10         0            33276         -1.804430   \n",
       "\n",
       "   RINTERNATIONALMIG2012  RNATURALINC2012  \n",
       "0               0.758090         1.157084  \n",
       "1               2.556276         0.992436  "
      ]
     },
     "execution_count": 179,
     "metadata": {},
     "output_type": "execute_result"
    }
   ],
   "source": [
    "FDI_df_12_2.head(2)"
   ]
  },
  {
   "cell_type": "code",
   "execution_count": 180,
   "id": "e1e047a0",
   "metadata": {},
   "outputs": [
    {
     "data": {
      "text/html": [
       "<div>\n",
       "<style scoped>\n",
       "    .dataframe tbody tr th:only-of-type {\n",
       "        vertical-align: middle;\n",
       "    }\n",
       "\n",
       "    .dataframe tbody tr th {\n",
       "        vertical-align: top;\n",
       "    }\n",
       "\n",
       "    .dataframe thead th {\n",
       "        text-align: right;\n",
       "    }\n",
       "</style>\n",
       "<table border=\"1\" class=\"dataframe\">\n",
       "  <thead>\n",
       "    <tr style=\"text-align: right;\">\n",
       "      <th></th>\n",
       "      <th>county</th>\n",
       "      <th>state</th>\n",
       "      <th>Annual Average Establishment Count</th>\n",
       "      <th>Annual Average Employment</th>\n",
       "      <th>Annual Total Wages</th>\n",
       "      <th>Annual Average Pay</th>\n",
       "      <th>1000less</th>\n",
       "      <th>1000to5000</th>\n",
       "      <th>5000more</th>\n",
       "      <th>POPESTIMATE2020</th>\n",
       "      <th>RDOMESTICMIG2020</th>\n",
       "      <th>RINTERNATIONALMIG2020</th>\n",
       "      <th>RNATURALINC2020</th>\n",
       "    </tr>\n",
       "  </thead>\n",
       "  <tbody>\n",
       "    <tr>\n",
       "      <th>0</th>\n",
       "      <td>Abbeville County</td>\n",
       "      <td>South Carolina</td>\n",
       "      <td>724</td>\n",
       "      <td>10629</td>\n",
       "      <td>434850330</td>\n",
       "      <td>212513</td>\n",
       "      <td>1685</td>\n",
       "      <td>0</td>\n",
       "      <td>0</td>\n",
       "      <td>24404</td>\n",
       "      <td>-4.041806</td>\n",
       "      <td>0.00000</td>\n",
       "      <td>-3.266106</td>\n",
       "    </tr>\n",
       "    <tr>\n",
       "      <th>1</th>\n",
       "      <td>Accomack County</td>\n",
       "      <td>Virginia</td>\n",
       "      <td>2148</td>\n",
       "      <td>24288</td>\n",
       "      <td>1076422962</td>\n",
       "      <td>256564</td>\n",
       "      <td>3860</td>\n",
       "      <td>10</td>\n",
       "      <td>0</td>\n",
       "      <td>32238</td>\n",
       "      <td>0.000000</td>\n",
       "      <td>1.61083</td>\n",
       "      <td>-4.305872</td>\n",
       "    </tr>\n",
       "  </tbody>\n",
       "</table>\n",
       "</div>"
      ],
      "text/plain": [
       "             county           state  Annual Average Establishment Count  \\\n",
       "0  Abbeville County  South Carolina                                 724   \n",
       "1   Accomack County        Virginia                                2148   \n",
       "\n",
       "   Annual Average Employment  Annual Total Wages  Annual Average Pay  \\\n",
       "0                      10629           434850330              212513   \n",
       "1                      24288          1076422962              256564   \n",
       "\n",
       "   1000less  1000to5000  5000more  POPESTIMATE2020  RDOMESTICMIG2020  \\\n",
       "0      1685           0         0            24404         -4.041806   \n",
       "1      3860          10         0            32238          0.000000   \n",
       "\n",
       "   RINTERNATIONALMIG2020  RNATURALINC2020  \n",
       "0                0.00000        -3.266106  \n",
       "1                1.61083        -4.305872  "
      ]
     },
     "execution_count": 180,
     "metadata": {},
     "output_type": "execute_result"
    }
   ],
   "source": [
    "FDI_df_20_2.head(2)"
   ]
  },
  {
   "cell_type": "markdown",
   "id": "a946dc24",
   "metadata": {},
   "source": [
    "### V. Foreign Direct Investment (FDI)"
   ]
  },
  {
   "cell_type": "code",
   "execution_count": 181,
   "id": "ff8ec918",
   "metadata": {},
   "outputs": [],
   "source": [
    "FDI_12 = pd.read_csv(\"FDI/FDI_2012.csv\")"
   ]
  },
  {
   "cell_type": "code",
   "execution_count": 182,
   "id": "17350e2e",
   "metadata": {},
   "outputs": [
    {
     "name": "stdout",
     "output_type": "stream",
     "text": [
      "705\n"
     ]
    },
    {
     "data": {
      "text/html": [
       "<div>\n",
       "<style scoped>\n",
       "    .dataframe tbody tr th:only-of-type {\n",
       "        vertical-align: middle;\n",
       "    }\n",
       "\n",
       "    .dataframe tbody tr th {\n",
       "        vertical-align: top;\n",
       "    }\n",
       "\n",
       "    .dataframe thead th {\n",
       "        text-align: right;\n",
       "    }\n",
       "</style>\n",
       "<table border=\"1\" class=\"dataframe\">\n",
       "  <thead>\n",
       "    <tr style=\"text-align: right;\">\n",
       "      <th></th>\n",
       "      <th>County Name</th>\n",
       "      <th>Percent foreign employment</th>\n",
       "      <th>Wage ratio</th>\n",
       "    </tr>\n",
       "  </thead>\n",
       "  <tbody>\n",
       "    <tr>\n",
       "      <th>0</th>\n",
       "      <td>Baldwin County, Alabama</td>\n",
       "      <td>1.4%</td>\n",
       "      <td>1.68</td>\n",
       "    </tr>\n",
       "    <tr>\n",
       "      <th>1</th>\n",
       "      <td>Calhoun County, Alabama</td>\n",
       "      <td>4.0%</td>\n",
       "      <td>1.18</td>\n",
       "    </tr>\n",
       "  </tbody>\n",
       "</table>\n",
       "</div>"
      ],
      "text/plain": [
       "               County Name Percent foreign employment  Wage ratio\n",
       "0  Baldwin County, Alabama                       1.4%        1.68\n",
       "1  Calhoun County, Alabama                       4.0%        1.18"
      ]
     },
     "execution_count": 182,
     "metadata": {},
     "output_type": "execute_result"
    }
   ],
   "source": [
    "print(len(FDI_12))\n",
    "FDI_12.head(2)"
   ]
  },
  {
   "cell_type": "code",
   "execution_count": 183,
   "id": "123e4c9f",
   "metadata": {},
   "outputs": [
    {
     "name": "stdout",
     "output_type": "stream",
     "text": [
      "<class 'str'>\n",
      "<class 'numpy.float64'>\n"
     ]
    }
   ],
   "source": [
    "print(type(FDI_12['Percent foreign employment'][0]))\n",
    "print(type(FDI_12['Wage ratio'][0]))"
   ]
  },
  {
   "cell_type": "code",
   "execution_count": 184,
   "id": "6014c62c",
   "metadata": {},
   "outputs": [],
   "source": [
    "# define a function to convert a percentage string to a numerical value\n",
    "def percentage_to_numeric(percentage_string):\n",
    "    percentage = float(percentage_string.rstrip('%'))\n",
    "    return round(percentage / 100, 2)\n",
    "\n",
    "# apply the function to the 'percentages' column and create a new column 'numeric_values'\n",
    "FDI_12['Percent foreign employment'] = FDI_12['Percent foreign employment'].apply(percentage_to_numeric)"
   ]
  },
  {
   "cell_type": "code",
   "execution_count": 185,
   "id": "6256c4ab",
   "metadata": {},
   "outputs": [
    {
     "data": {
      "text/plain": [
       "count    705.000000\n",
       "mean       0.051348\n",
       "std        0.036789\n",
       "min        0.010000\n",
       "25%        0.030000\n",
       "50%        0.040000\n",
       "75%        0.060000\n",
       "max        0.400000\n",
       "Name: Percent foreign employment, dtype: float64"
      ]
     },
     "execution_count": 185,
     "metadata": {},
     "output_type": "execute_result"
    }
   ],
   "source": [
    "FDI_12['Percent foreign employment'].describe()"
   ]
  },
  {
   "cell_type": "code",
   "execution_count": 186,
   "id": "d7d921fc",
   "metadata": {},
   "outputs": [
    {
     "data": {
      "text/plain": [
       "count    705.000000\n",
       "mean       1.383206\n",
       "std        0.338490\n",
       "min        0.580000\n",
       "25%        1.160000\n",
       "50%        1.340000\n",
       "75%        1.570000\n",
       "max        3.300000\n",
       "Name: Wage ratio, dtype: float64"
      ]
     },
     "execution_count": 186,
     "metadata": {},
     "output_type": "execute_result"
    }
   ],
   "source": [
    "FDI_12['Wage ratio'].describe()"
   ]
  },
  {
   "cell_type": "code",
   "execution_count": 187,
   "id": "e693ae97",
   "metadata": {},
   "outputs": [],
   "source": [
    "FDI_12[['county', 'state']] = FDI_12['County Name'].str.split(', ', expand=True)"
   ]
  },
  {
   "cell_type": "code",
   "execution_count": 189,
   "id": "b70a188e",
   "metadata": {},
   "outputs": [],
   "source": [
    "# assign FDI label by metrics \n",
    "FDI_12.loc[(FDI_12['Percent foreign employment'] > 0.1) | (FDI_12['Wage ratio'] > 2), 'FDI'] = 1\n",
    "FDI_12['FDI'].fillna(0 , inplace=True)"
   ]
  },
  {
   "cell_type": "code",
   "execution_count": 190,
   "id": "aa9c712e",
   "metadata": {},
   "outputs": [
    {
     "data": {
      "text/plain": [
       "count    705.000000\n",
       "mean       0.095035\n",
       "std        0.293472\n",
       "min        0.000000\n",
       "25%        0.000000\n",
       "50%        0.000000\n",
       "75%        0.000000\n",
       "max        1.000000\n",
       "Name: FDI, dtype: float64"
      ]
     },
     "execution_count": 190,
     "metadata": {},
     "output_type": "execute_result"
    }
   ],
   "source": [
    "FDI_12['FDI'].describe()"
   ]
  },
  {
   "cell_type": "code",
   "execution_count": 191,
   "id": "4d7d7fe6",
   "metadata": {},
   "outputs": [],
   "source": [
    "FDI_Label = FDI_12[['county', 'state','FDI']]"
   ]
  },
  {
   "cell_type": "code",
   "execution_count": 193,
   "id": "598f37f5",
   "metadata": {},
   "outputs": [],
   "source": [
    "FDI_Labeled = pd.merge(FDI_df_12_2, FDI_Label,\n",
    "                 left_on=['county', 'state'], right_on=['county', 'state'], how = 'inner')"
   ]
  },
  {
   "cell_type": "code",
   "execution_count": 195,
   "id": "67c0a18f",
   "metadata": {},
   "outputs": [
    {
     "data": {
      "text/plain": [
       "Index(['county', 'state', 'Annual Average Establishment Count',\n",
       "       'Annual Average Employment', 'Annual Total Wages', 'Annual Average Pay',\n",
       "       '1000less', '1000to5000', '5000more', 'POPESTIMATE2012',\n",
       "       'RDOMESTICMIG2012', 'RINTERNATIONALMIG2012', 'RNATURALINC2012', 'FDI'],\n",
       "      dtype='object')"
      ]
     },
     "execution_count": 195,
     "metadata": {},
     "output_type": "execute_result"
    }
   ],
   "source": [
    "FDI_Labeled.columns"
   ]
  },
  {
   "cell_type": "markdown",
   "id": "1db37c6b",
   "metadata": {},
   "source": [
    "# Classificaiton "
   ]
  },
  {
   "cell_type": "markdown",
   "id": "fc1add1b",
   "metadata": {},
   "source": [
    "### Train a decision tree model to distinguish 2020 High FDI county based on 2012 BEA report "
   ]
  },
  {
   "cell_type": "code",
   "execution_count": 196,
   "id": "f40fe01e",
   "metadata": {},
   "outputs": [
    {
     "name": "stdout",
     "output_type": "stream",
     "text": [
      "Logistic Accuracy: 0.9166666666666666\n",
      "Decision Tree Accuracy: 0.8712121212121212\n",
      "Random Forest Accuracy: 0.9166666666666666\n",
      "KNN Accuracy: 0.9090909090909091\n"
     ]
    }
   ],
   "source": [
    "# select the relevant features and target variable\n",
    "X = FDI_Labeled[['Annual Average Establishment Count',\n",
    "       'Annual Average Employment', 'Annual Total Wages', 'Annual Average Pay',\n",
    "       '1000less', '1000to5000', '5000more', 'POPESTIMATE2012',\n",
    "       'RDOMESTICMIG2012', 'RINTERNATIONALMIG2012', 'RNATURALINC2012']]\n",
    "y = FDI_Labeled['FDI']\n",
    "\n",
    "# split the data into training and testing sets\n",
    "X_train, X_test, y_train, y_test = train_test_split(X, y, test_size=0.2)\n",
    "\n",
    "# create a logistic regression model\n",
    "model1 = LogisticRegression()\n",
    "\n",
    "# create a decision tree classifier\n",
    "model2 = DecisionTreeClassifier(random_state=42)\n",
    "# define the hyperparameter grid to search over\n",
    "param_grid = {'max_depth': [3, 5, 7, 10, None],\n",
    "              'min_samples_split': [2, 5, 10],\n",
    "              'min_samples_leaf': [1, 2, 4],\n",
    "              'max_features': ['sqrt', 'log2', None]}\n",
    "# perform a grid search over the hyperparameter grid using cross-validation\n",
    "grid_search = GridSearchCV(model2, param_grid=param_grid, cv=5)\n",
    "grid_search.fit(X_train, y_train)\n",
    "# retrieve the best model and make predictions on the testing set\n",
    "model2 = grid_search.best_estimator_\n",
    "\n",
    "\n",
    "# create a Random Forest classifier\n",
    "model3 = RandomForestClassifier(n_estimators=100)\n",
    "# define the hyperparameter grid to search over\n",
    "param_grid = {'max_depth': [3, 5, 7, 10, None],\n",
    "              'min_samples_split': [2, 5, 10],\n",
    "              'min_samples_leaf': [1, 2, 4],\n",
    "              'max_features': ['sqrt', 'log2', None]}\n",
    "# perform a grid search over the hyperparameter grid using cross-validation\n",
    "grid_search = GridSearchCV(model3, param_grid=param_grid, cv=5)\n",
    "grid_search.fit(X_train, y_train)\n",
    "# retrieve the best model and make predictions on the testing set\n",
    "model3 = grid_search.best_estimator_\n",
    "\n",
    "# create a KNN classifier\n",
    "model4 = KNeighborsClassifier(n_neighbors=10)\n",
    "# define the hyperparameter grid to search over\n",
    "param_grid = {'n_neighbors': [3, 5, 7, 10, 15],\n",
    "              'weights': ['uniform', 'distance'],\n",
    "              'p': [1, 2]}\n",
    "\n",
    "# perform a grid search over the hyperparameter grid using cross-validation\n",
    "grid_search = GridSearchCV(model4, param_grid=param_grid, cv=5)\n",
    "grid_search.fit(X_train, y_train)\n",
    "\n",
    "# retrieve the best model and make predictions on the testing set\n",
    "model4 = grid_search.best_estimator_\n",
    "\n",
    "# train the model on the training set\n",
    "model1.fit(X_train, y_train)\n",
    "model2.fit(X_train, y_train)\n",
    "model3.fit(X_train, y_train)\n",
    "model4.fit(X_train, y_train)\n",
    "\n",
    "# make predictions on the testing set\n",
    "y_pred1 = model1.predict(X_test)\n",
    "y_pred2 = model2.predict(X_test)\n",
    "y_pred3 = model3.predict(X_test)\n",
    "y_pred4 = model4.predict(X_test)\n",
    "\n",
    "# evaluate the model's accuracy\n",
    "accuracy1 = accuracy_score(y_test, y_pred1)\n",
    "print('Logistic Accuracy:', accuracy1)\n",
    "accuracy2 = accuracy_score(y_test, y_pred2)\n",
    "print('Decision Tree Accuracy:', accuracy2)\n",
    "accuracy3 = accuracy_score(y_test, y_pred3)\n",
    "print('Random Forest Accuracy:', accuracy3)\n",
    "accuracy4 = accuracy_score(y_test, y_pred4)\n",
    "print('KNN Accuracy:', accuracy4)"
   ]
  },
  {
   "cell_type": "code",
   "execution_count": 214,
   "id": "c5337eb9",
   "metadata": {},
   "outputs": [
    {
     "data": {
      "image/png": "[encoded data removed]",
      "text/plain": [
       "<Figure size 640x480 with 1 Axes>"
      ]
     },
     "metadata": {},
     "output_type": "display_data"
    },
    {
     "name": "stdout",
     "output_type": "stream",
     "text": [
      "Logistic Accuracy: 0.9166666666666666\n",
      "Logistic AUC score: 0.5694966190833959\n"
     ]
    }
   ],
   "source": [
    "# get predicted probabilities for test set\n",
    "y_proba1 = model1.predict_proba(X_test)[:, 1]\n",
    "\n",
    "# calculate false positive rate and true positive rate for different thresholds\n",
    "fpr, tpr, thresholds = roc_curve(y_test, y_proba1)\n",
    "\n",
    "# plot ROC curve\n",
    "plt.plot(fpr, tpr)\n",
    "plt.xlabel('False Positive Rate')\n",
    "plt.ylabel('True Positive Rate')\n",
    "plt.title('Logistic ROC Curve')\n",
    "plt.show()\n",
    "\n",
    "# calculate AUC score\n",
    "auc_score = roc_auc_score(y_test, y_proba1)\n",
    "print('Logistic Accuracy:', accuracy1)\n",
    "print('Logistic AUC score:', auc_score)"
   ]
  },
  {
   "cell_type": "code",
   "execution_count": 215,
   "id": "91f5fa55",
   "metadata": {},
   "outputs": [
    {
     "data": {
      "image/png": "[encoded data removed]",
      "text/plain": [
       "<Figure size 640x480 with 1 Axes>"
      ]
     },
     "metadata": {},
     "output_type": "display_data"
    },
    {
     "name": "stdout",
     "output_type": "stream",
     "text": [
      "Decision Tree Accuracy: 0.8712121212121212\n",
      "Decision Tree AUC score: 0.5679939894815929\n"
     ]
    }
   ],
   "source": [
    "# get predicted probabilities for test set\n",
    "y_proba2 = model2.predict_proba(X_test)[:, 1]\n",
    "\n",
    "# calculate false positive rate and true positive rate for different thresholds\n",
    "fpr, tpr, thresholds = roc_curve(y_test, y_proba2)\n",
    "\n",
    "# plot ROC curve\n",
    "plt.plot(fpr, tpr)\n",
    "plt.xlabel('False Positive Rate')\n",
    "plt.ylabel('True Positive Rate')\n",
    "plt.title('Decision Tree ROC Curve')\n",
    "plt.show()\n",
    "\n",
    "# calculate AUC score\n",
    "auc_score = roc_auc_score(y_test, y_proba2)\n",
    "print('Decision Tree Accuracy:', accuracy2)\n",
    "print('Decision Tree AUC score:', auc_score)"
   ]
  },
  {
   "cell_type": "code",
   "execution_count": 216,
   "id": "2ec9e99d",
   "metadata": {},
   "outputs": [
    {
     "data": {
      "image/png": "[encoded data removed]",
      "text/plain": [
       "<Figure size 640x480 with 1 Axes>"
      ]
     },
     "metadata": {},
     "output_type": "display_data"
    },
    {
     "name": "stdout",
     "output_type": "stream",
     "text": [
      "Random Forest Accuracy: 0.9166666666666666\n",
      "Random Forest AUC score: 0.6536438767843726\n"
     ]
    }
   ],
   "source": [
    "# get predicted probabilities for test set\n",
    "y_proba3 = model3.predict_proba(X_test)[:, 1]\n",
    "\n",
    "# calculate false positive rate and true positive rate for different thresholds\n",
    "fpr, tpr, thresholds = roc_curve(y_test, y_proba3)\n",
    "\n",
    "# plot ROC curve\n",
    "plt.plot(fpr, tpr)\n",
    "plt.xlabel('False Positive Rate')\n",
    "plt.ylabel('True Positive Rate')\n",
    "plt.title('Random Forest ROC Curve')\n",
    "plt.show()\n",
    "\n",
    "# calculate AUC score\n",
    "auc_score = roc_auc_score(y_test, y_proba3)\n",
    "print('Random Forest Accuracy:', accuracy3)\n",
    "print('Random Forest AUC score:', auc_score)"
   ]
  },
  {
   "cell_type": "code",
   "execution_count": 217,
   "id": "f114b6f3",
   "metadata": {},
   "outputs": [
    {
     "data": {
      "image/png": "[encoded data removed]",
      "text/plain": [
       "<Figure size 640x480 with 1 Axes>"
      ]
     },
     "metadata": {},
     "output_type": "display_data"
    },
    {
     "name": "stdout",
     "output_type": "stream",
     "text": [
      "KNN Accuracy: 0.9090909090909091\n",
      "KNN AUC score: 0.5740045078888054\n"
     ]
    }
   ],
   "source": [
    "# get predicted probabilities for test set\n",
    "y_proba4 = model4.predict_proba(X_test)[:, 1]\n",
    "\n",
    "# calculate false positive rate and true positive rate for different thresholds\n",
    "fpr, tpr, thresholds = roc_curve(y_test, y_proba4)\n",
    "\n",
    "# plot ROC curve\n",
    "plt.plot(fpr, tpr)\n",
    "plt.xlabel('False Positive Rate')\n",
    "plt.ylabel('True Positive Rate')\n",
    "plt.title('KNN ROC Curve')\n",
    "plt.show()\n",
    "\n",
    "# calculate AUC score\n",
    "auc_score = roc_auc_score(y_test, y_proba4)\n",
    "print('KNN Accuracy:', accuracy4)\n",
    "print('KNN AUC score:', auc_score)"
   ]
  },
  {
   "cell_type": "code",
   "execution_count": 219,
   "id": "143d45a5",
   "metadata": {},
   "outputs": [],
   "source": [
    "Region = FDI_df_20_2[[\"county\",\"state\"]]\n",
    "FDI_20 = FDI_df_20_2[['Annual Average Establishment Count',\n",
    "       'Annual Average Employment', 'Annual Total Wages', 'Annual Average Pay',\n",
    "       '1000less', '1000to5000', '5000more', 'POPESTIMATE2020',\n",
    "       'RDOMESTICMIG2020', 'RINTERNATIONALMIG2020', 'RNATURALINC2020']]"
   ]
  },
  {
   "cell_type": "code",
   "execution_count": 220,
   "id": "307907f1",
   "metadata": {},
   "outputs": [
    {
     "name": "stderr",
     "output_type": "stream",
     "text": [
      "/Users/jingyiwang/opt/anaconda3/envs/SSCI586/lib/python3.9/site-packages/sklearn/base.py:493: FutureWarning: The feature names should match those that were passed during fit. Starting version 1.2, an error will be raised.\n",
      "Feature names unseen at fit time:\n",
      "- POPESTIMATE2020\n",
      "- RDOMESTICMIG2020\n",
      "- RINTERNATIONALMIG2020\n",
      "- RNATURALINC2020\n",
      "Feature names seen at fit time, yet now missing:\n",
      "- POPESTIMATE2012\n",
      "- RDOMESTICMIG2012\n",
      "- RINTERNATIONALMIG2012\n",
      "- RNATURALINC2012\n",
      "\n",
      "  warnings.warn(message, FutureWarning)\n",
      "/var/folders/14/jyndvv096sqbkr5m6qz77nl40000gn/T/ipykernel_22529/1741639692.py:2: SettingWithCopyWarning: \n",
      "A value is trying to be set on a copy of a slice from a DataFrame.\n",
      "Try using .loc[row_indexer,col_indexer] = value instead\n",
      "\n",
      "See the caveats in the documentation: https://pandas.pydata.org/pandas-docs/stable/user_guide/indexing.html#returning-a-view-versus-a-copy\n",
      "  FDI_20[\"FDI_20\"] = result\n"
     ]
    }
   ],
   "source": [
    "result = model3.predict(FDI_20)\n",
    "FDI_20[\"FDI_20\"] = result"
   ]
  },
  {
   "cell_type": "code",
   "execution_count": 221,
   "id": "38ad2844",
   "metadata": {},
   "outputs": [
    {
     "data": {
      "text/plain": [
       "count    2992.000000\n",
       "mean        0.031417\n",
       "std         0.174471\n",
       "min         0.000000\n",
       "25%         0.000000\n",
       "50%         0.000000\n",
       "75%         0.000000\n",
       "max         1.000000\n",
       "Name: FDI_20, dtype: float64"
      ]
     },
     "execution_count": 221,
     "metadata": {},
     "output_type": "execute_result"
    }
   ],
   "source": [
    "FDI_20[\"FDI_20\"].describe()"
   ]
  },
  {
   "cell_type": "code",
   "execution_count": 222,
   "id": "8f5fadd9",
   "metadata": {},
   "outputs": [],
   "source": [
    "FDI_Label_20 = pd.concat([Region, FDI_20], axis=1).reset_index(drop=True)"
   ]
  },
  {
   "cell_type": "markdown",
   "id": "0c78f8ce",
   "metadata": {},
   "source": [
    "# Aggregate Shapefile"
   ]
  },
  {
   "cell_type": "markdown",
   "id": "042541ef",
   "metadata": {},
   "source": [
    "### FDI Label by County "
   ]
  },
  {
   "cell_type": "code",
   "execution_count": 236,
   "id": "836dadcf",
   "metadata": {},
   "outputs": [],
   "source": [
    "merged_data = county.merge(FDI_Labeled[[\"county\",\"state\",\"FDI\"]], left_on=['NAME','STATE_NAME'], right_on=['county', 'state'], \n",
    "                           how='left')\n",
    "merged_data.drop([\"county\",\"state\"], axis=1, inplace=True)\n",
    "merged_data[\"FDI\"] = merged_data['FDI'].fillna(0)\n",
    "\n",
    "merged_data = merged_data.merge(FDI_Label_20[[\"county\",\"state\",\"FDI_20\"]], left_on=['NAME','STATE_NAME'], right_on=['county', 'state'], \n",
    "                           how='left')\n",
    "merged_data.drop([\"county\",\"state\"], axis=1, inplace=True)\n",
    "merged_data[\"FDI_20\"] = merged_data['FDI_20'].fillna(0)"
   ]
  },
  {
   "cell_type": "code",
   "execution_count": 241,
   "id": "f6e2e973",
   "metadata": {},
   "outputs": [
    {
     "data": {
      "text/html": [
       "<div>\n",
       "<style scoped>\n",
       "    .dataframe tbody tr th:only-of-type {\n",
       "        vertical-align: middle;\n",
       "    }\n",
       "\n",
       "    .dataframe tbody tr th {\n",
       "        vertical-align: top;\n",
       "    }\n",
       "\n",
       "    .dataframe thead th {\n",
       "        text-align: right;\n",
       "    }\n",
       "</style>\n",
       "<table border=\"1\" class=\"dataframe\">\n",
       "  <thead>\n",
       "    <tr style=\"text-align: right;\">\n",
       "      <th></th>\n",
       "      <th>NAME</th>\n",
       "      <th>STATE_NAME</th>\n",
       "      <th>STATE_FIPS</th>\n",
       "      <th>CNTY_FIPS</th>\n",
       "      <th>FIPS</th>\n",
       "      <th>geometry</th>\n",
       "      <th>FDI</th>\n",
       "      <th>FDI_20</th>\n",
       "    </tr>\n",
       "  </thead>\n",
       "  <tbody>\n",
       "    <tr>\n",
       "      <th>0</th>\n",
       "      <td>Lake of the Woods County</td>\n",
       "      <td>Minnesota</td>\n",
       "      <td>27</td>\n",
       "      <td>077</td>\n",
       "      <td>27077</td>\n",
       "      <td>POLYGON ((-95.34283 48.54668, -95.34105 48.715...</td>\n",
       "      <td>0.0</td>\n",
       "      <td>0.0</td>\n",
       "    </tr>\n",
       "    <tr>\n",
       "      <th>1</th>\n",
       "      <td>Ferry County</td>\n",
       "      <td>Washington</td>\n",
       "      <td>53</td>\n",
       "      <td>019</td>\n",
       "      <td>53019</td>\n",
       "      <td>POLYGON ((-118.85163 47.94956, -118.84846 48.4...</td>\n",
       "      <td>0.0</td>\n",
       "      <td>0.0</td>\n",
       "    </tr>\n",
       "  </tbody>\n",
       "</table>\n",
       "</div>"
      ],
      "text/plain": [
       "                       NAME  STATE_NAME STATE_FIPS CNTY_FIPS   FIPS  \\\n",
       "0  Lake of the Woods County   Minnesota         27       077  27077   \n",
       "1              Ferry County  Washington         53       019  53019   \n",
       "\n",
       "                                            geometry  FDI  FDI_20  \n",
       "0  POLYGON ((-95.34283 48.54668, -95.34105 48.715...  0.0     0.0  \n",
       "1  POLYGON ((-118.85163 47.94956, -118.84846 48.4...  0.0     0.0  "
      ]
     },
     "execution_count": 241,
     "metadata": {},
     "output_type": "execute_result"
    }
   ],
   "source": [
    "merged_data.head(2)"
   ]
  },
  {
   "cell_type": "code",
   "execution_count": 240,
   "id": "2b19406f",
   "metadata": {},
   "outputs": [],
   "source": [
    "merged_data.to_file('FDI_Counties/FDI_Counties.shp', driver='ESRI Shapefile')"
   ]
  },
  {
   "cell_type": "markdown",
   "id": "4fbc3582",
   "metadata": {},
   "source": [
    "### FDI State Data by Industry"
   ]
  },
  {
   "cell_type": "code",
   "execution_count": 272,
   "id": "f0a48ab7",
   "metadata": {},
   "outputs": [],
   "source": [
    "state = gpd.read_file(\"USStates/USA_States_Generalized.shp\")\n",
    "FDI_Employee_12 = pd.read_csv(\"FDI/FDI_Industry_12.csv\")\n",
    "FDI_Employee_20 = pd.read_csv(\"FDI/FDI_Industry_20.csv\")\n",
    "FDI_employee_change = pd.read_csv(\"FDI/FDI_Industry_Change.csv\")"
   ]
  },
  {
   "cell_type": "code",
   "execution_count": 268,
   "id": "25577f75",
   "metadata": {},
   "outputs": [
    {
     "data": {
      "text/html": [
       "<div>\n",
       "<style scoped>\n",
       "    .dataframe tbody tr th:only-of-type {\n",
       "        vertical-align: middle;\n",
       "    }\n",
       "\n",
       "    .dataframe tbody tr th {\n",
       "        vertical-align: top;\n",
       "    }\n",
       "\n",
       "    .dataframe thead th {\n",
       "        text-align: right;\n",
       "    }\n",
       "</style>\n",
       "<table border=\"1\" class=\"dataframe\">\n",
       "  <thead>\n",
       "    <tr style=\"text-align: right;\">\n",
       "      <th></th>\n",
       "      <th>FID</th>\n",
       "      <th>STATE_NAME</th>\n",
       "      <th>STATE_FIPS</th>\n",
       "      <th>SUB_REGION</th>\n",
       "      <th>STATE_ABBR</th>\n",
       "      <th>POPULATION</th>\n",
       "      <th>POP_SQMI</th>\n",
       "      <th>POP2010</th>\n",
       "      <th>POP10_SQMI</th>\n",
       "      <th>WHITE</th>\n",
       "      <th>...</th>\n",
       "      <th>RENTER_OCC</th>\n",
       "      <th>NO_FARMS12</th>\n",
       "      <th>AVE_SIZE12</th>\n",
       "      <th>CROP_ACR12</th>\n",
       "      <th>AVE_SALE12</th>\n",
       "      <th>SQMI</th>\n",
       "      <th>GlobalID</th>\n",
       "      <th>SHAPE_Leng</th>\n",
       "      <th>SHAPE_Area</th>\n",
       "      <th>geometry</th>\n",
       "    </tr>\n",
       "  </thead>\n",
       "  <tbody>\n",
       "    <tr>\n",
       "      <th>0</th>\n",
       "      <td>1</td>\n",
       "      <td>Alaska</td>\n",
       "      <td>02</td>\n",
       "      <td>Pacific</td>\n",
       "      <td>AK</td>\n",
       "      <td>744733</td>\n",
       "      <td>1.3</td>\n",
       "      <td>710231</td>\n",
       "      <td>1.2</td>\n",
       "      <td>473576</td>\n",
       "      <td>...</td>\n",
       "      <td>95293</td>\n",
       "      <td>762.0</td>\n",
       "      <td>1094.0</td>\n",
       "      <td>84114.0</td>\n",
       "      <td>77329.0</td>\n",
       "      <td>581369.17</td>\n",
       "      <td>{CAA768F1-67C4-4E4E-BE1F-585897D5D651}</td>\n",
       "      <td>407.570958</td>\n",
       "      <td>277.524097</td>\n",
       "      <td>MULTIPOLYGON (((-161.33379 58.73325, -161.3824...</td>\n",
       "    </tr>\n",
       "    <tr>\n",
       "      <th>1</th>\n",
       "      <td>2</td>\n",
       "      <td>California</td>\n",
       "      <td>06</td>\n",
       "      <td>Pacific</td>\n",
       "      <td>CA</td>\n",
       "      <td>39611295</td>\n",
       "      <td>250.5</td>\n",
       "      <td>37253956</td>\n",
       "      <td>235.6</td>\n",
       "      <td>21453934</td>\n",
       "      <td>...</td>\n",
       "      <td>5542127</td>\n",
       "      <td>77857.0</td>\n",
       "      <td>328.0</td>\n",
       "      <td>9591783.0</td>\n",
       "      <td>547510.0</td>\n",
       "      <td>158144.83</td>\n",
       "      <td>{1B72B84F-AB21-4F2C-ABF1-D6029E20E2B9}</td>\n",
       "      <td>42.260157</td>\n",
       "      <td>41.533618</td>\n",
       "      <td>MULTIPOLYGON (((-121.66522 38.16929, -121.7823...</td>\n",
       "    </tr>\n",
       "  </tbody>\n",
       "</table>\n",
       "<p>2 rows × 57 columns</p>\n",
       "</div>"
      ],
      "text/plain": [
       "   FID  STATE_NAME STATE_FIPS SUB_REGION STATE_ABBR  POPULATION  POP_SQMI  \\\n",
       "0    1      Alaska         02    Pacific         AK      744733       1.3   \n",
       "1    2  California         06    Pacific         CA    39611295     250.5   \n",
       "\n",
       "    POP2010  POP10_SQMI     WHITE  ...  RENTER_OCC  NO_FARMS12  AVE_SIZE12  \\\n",
       "0    710231         1.2    473576  ...       95293       762.0      1094.0   \n",
       "1  37253956       235.6  21453934  ...     5542127     77857.0       328.0   \n",
       "\n",
       "   CROP_ACR12  AVE_SALE12       SQMI                                GlobalID  \\\n",
       "0     84114.0     77329.0  581369.17  {CAA768F1-67C4-4E4E-BE1F-585897D5D651}   \n",
       "1   9591783.0    547510.0  158144.83  {1B72B84F-AB21-4F2C-ABF1-D6029E20E2B9}   \n",
       "\n",
       "   SHAPE_Leng  SHAPE_Area                                           geometry  \n",
       "0  407.570958  277.524097  MULTIPOLYGON (((-161.33379 58.73325, -161.3824...  \n",
       "1   42.260157   41.533618  MULTIPOLYGON (((-121.66522 38.16929, -121.7823...  \n",
       "\n",
       "[2 rows x 57 columns]"
      ]
     },
     "execution_count": 268,
     "metadata": {},
     "output_type": "execute_result"
    }
   ],
   "source": [
    "state.head(2)"
   ]
  },
  {
   "cell_type": "code",
   "execution_count": 269,
   "id": "c2fe557e",
   "metadata": {},
   "outputs": [
    {
     "data": {
      "text/html": [
       "<div>\n",
       "<style scoped>\n",
       "    .dataframe tbody tr th:only-of-type {\n",
       "        vertical-align: middle;\n",
       "    }\n",
       "\n",
       "    .dataframe tbody tr th {\n",
       "        vertical-align: top;\n",
       "    }\n",
       "\n",
       "    .dataframe thead th {\n",
       "        text-align: right;\n",
       "    }\n",
       "</style>\n",
       "<table border=\"1\" class=\"dataframe\">\n",
       "  <thead>\n",
       "    <tr style=\"text-align: right;\">\n",
       "      <th></th>\n",
       "      <th>State</th>\n",
       "      <th>All industries</th>\n",
       "      <th>Manufacturing</th>\n",
       "      <th>Wholesale</th>\n",
       "      <th>Information</th>\n",
       "      <th>Finance</th>\n",
       "      <th>Professional</th>\n",
       "    </tr>\n",
       "  </thead>\n",
       "  <tbody>\n",
       "    <tr>\n",
       "      <th>0</th>\n",
       "      <td>Connecticut</td>\n",
       "      <td>102.9</td>\n",
       "      <td>32.9</td>\n",
       "      <td>27.9</td>\n",
       "      <td>2.9</td>\n",
       "      <td>13.8</td>\n",
       "      <td>4.0</td>\n",
       "    </tr>\n",
       "    <tr>\n",
       "      <th>1</th>\n",
       "      <td>Maine</td>\n",
       "      <td>33.9</td>\n",
       "      <td>9.5</td>\n",
       "      <td>16.2</td>\n",
       "      <td>1.4</td>\n",
       "      <td>3.7</td>\n",
       "      <td>0.6</td>\n",
       "    </tr>\n",
       "  </tbody>\n",
       "</table>\n",
       "</div>"
      ],
      "text/plain": [
       "         State  All industries  Manufacturing  Wholesale  Information  \\\n",
       "0  Connecticut           102.9           32.9       27.9          2.9   \n",
       "1        Maine            33.9            9.5       16.2          1.4   \n",
       "\n",
       "   Finance   Professional  \n",
       "0      13.8           4.0  \n",
       "1       3.7           0.6  "
      ]
     },
     "execution_count": 269,
     "metadata": {},
     "output_type": "execute_result"
    }
   ],
   "source": [
    "FDI_Employee_12.head(2)"
   ]
  },
  {
   "cell_type": "code",
   "execution_count": 273,
   "id": "57902c14",
   "metadata": {},
   "outputs": [],
   "source": [
    "merged_data_12 = state.merge(FDI_Employee_12, left_on=['STATE_NAME'], right_on=['State'], \n",
    "                           how='left')\n",
    "merged_data_12.drop([\"State\"], axis=1, inplace=True)\n",
    "\n",
    "merged_data_20 = state.merge(FDI_Employee_20, left_on=['STATE_NAME'], right_on=['State'], \n",
    "                           how='left')\n",
    "merged_data_20.drop([\"State\"], axis=1, inplace=True)\n",
    "\n",
    "merged_data_change = state.merge(FDI_employee_change, left_on=['STATE_NAME'], right_on=['State'], \n",
    "                           how='left')\n",
    "merged_data_change.drop([\"State\"], axis=1, inplace=True)"
   ]
  },
  {
   "cell_type": "code",
   "execution_count": 275,
   "id": "5c92b546",
   "metadata": {},
   "outputs": [
    {
     "name": "stderr",
     "output_type": "stream",
     "text": [
      "/var/folders/14/jyndvv096sqbkr5m6qz77nl40000gn/T/ipykernel_22529/3938783198.py:1: UserWarning: Column names longer than 10 characters will be truncated when saved to ESRI Shapefile.\n",
      "  merged_data_12.to_file('FDI_States/Industry_12/FDI_Industry_12.shp', driver='ESRI Shapefile')\n",
      "/var/folders/14/jyndvv096sqbkr5m6qz77nl40000gn/T/ipykernel_22529/3938783198.py:2: UserWarning: Column names longer than 10 characters will be truncated when saved to ESRI Shapefile.\n",
      "  merged_data_20.to_file('FDI_States/Industry_20/FDI_Industry_20.shp', driver='ESRI Shapefile')\n",
      "/var/folders/14/jyndvv096sqbkr5m6qz77nl40000gn/T/ipykernel_22529/3938783198.py:3: UserWarning: Column names longer than 10 characters will be truncated when saved to ESRI Shapefile.\n",
      "  merged_data_change.to_file('FDI_States/Industry_change/FDI_Industry_change.shp', driver='ESRI Shapefile')\n"
     ]
    }
   ],
   "source": [
    "merged_data_12.to_file('FDI_States/Industry_12/FDI_Industry_12.shp', driver='ESRI Shapefile')\n",
    "merged_data_20.to_file('FDI_States/Industry_20/FDI_Industry_20.shp', driver='ESRI Shapefile')\n",
    "merged_data_change.to_file('FDI_States/Industry_change/FDI_Industry_change.shp', driver='ESRI Shapefile')"
   ]
  },
  {
   "cell_type": "markdown",
   "id": "f1ab2c80",
   "metadata": {},
   "source": [
    "### Timeline Chart"
   ]
  },
  {
   "cell_type": "code",
   "execution_count": 293,
   "id": "54ffac9e",
   "metadata": {},
   "outputs": [],
   "source": [
    "time_df = pd.read_csv(\"FDI/FDI_Change_Year.csv\")"
   ]
  },
  {
   "cell_type": "code",
   "execution_count": 309,
   "id": "d474fc34",
   "metadata": {},
   "outputs": [
    {
     "data": {
      "application/vnd.plotly.v1+json": {
       "config": {
        "plotlyServerURL": "https://plot.ly"
       },
       "data": [
        {
         "hovertemplate": "Industry=Manufacturing<br>Year=%{x}<br>Value=%{y}<extra></extra>",
         "legendgroup": "Manufacturing",
         "line": {
          "color": "#636efa",
          "dash": "solid"
         },
         "marker": {
          "symbol": "circle"
         },
         "mode": "lines",
         "name": "Manufacturing",
         "orientation": "v",
         "showlegend": true,
         "type": "scatter",
         "x": [
          2007,
          2008,
          2009,
          2010,
          2011,
          2012,
          2013,
          2014,
          2015,
          2016,
          2017,
          2018,
          2019,
          2020
         ],
         "xaxis": "x",
         "y": [
          2050.7,
          2151.5,
          1961,
          2013.5,
          2101.2,
          2200.4,
          2314.2,
          2409.9,
          2425,
          2558.4,
          2716.3,
          2827.1,
          2869,
          2821.8
         ],
         "yaxis": "y"
        },
        {
         "hovertemplate": "Industry=Wholesale and Retail Trade<br>Year=%{x}<br>Value=%{y}<extra></extra>",
         "legendgroup": "Wholesale and Retail Trade",
         "line": {
          "color": "#EF553B",
          "dash": "solid"
         },
         "marker": {
          "symbol": "circle"
         },
         "mode": "lines",
         "name": "Wholesale and Retail Trade",
         "orientation": "v",
         "showlegend": true,
         "type": "scatter",
         "x": [
          2007,
          2008,
          2009,
          2010,
          2011,
          2012,
          2013,
          2014,
          2015,
          2016,
          2017,
          2018,
          2019,
          2020
         ],
         "xaxis": "x",
         "y": [
          1191.6,
          1097.5,
          1044.8,
          1027.6,
          1048.9,
          1087.6,
          1113.7,
          1192,
          1263.5,
          1388.3,
          1477.7,
          1557.6,
          1634,
          1585.5
         ],
         "yaxis": "y"
        },
        {
         "hovertemplate": "Industry=Information<br>Year=%{x}<br>Value=%{y}<extra></extra>",
         "legendgroup": "Information",
         "line": {
          "color": "#00cc96",
          "dash": "solid"
         },
         "marker": {
          "symbol": "circle"
         },
         "mode": "lines",
         "name": "Information",
         "orientation": "v",
         "showlegend": true,
         "type": "scatter",
         "x": [
          2007,
          2008,
          2009,
          2010,
          2011,
          2012,
          2013,
          2014,
          2015,
          2016,
          2017,
          2018,
          2019,
          2020
         ],
         "xaxis": "x",
         "y": [
          233.5,
          261.1,
          252.3,
          241,
          244.8,
          260.6,
          302.5,
          298.6,
          294.5,
          306.1,
          312,
          353.8,
          367.3,
          335.5
         ],
         "yaxis": "y"
        },
        {
         "hovertemplate": "Industry=Finance and Insurance<br>Year=%{x}<br>Value=%{y}<extra></extra>",
         "legendgroup": "Finance and Insurance",
         "line": {
          "color": "#ab63fa",
          "dash": "solid"
         },
         "marker": {
          "symbol": "circle"
         },
         "mode": "lines",
         "name": "Finance and Insurance",
         "orientation": "v",
         "showlegend": true,
         "type": "scatter",
         "x": [
          2007,
          2008,
          2009,
          2010,
          2011,
          2012,
          2013,
          2014,
          2015,
          2016,
          2017,
          2018,
          2019,
          2020
         ],
         "xaxis": "x",
         "y": [
          382.1,
          412.8,
          384.5,
          402.2,
          414.3,
          420,
          416.5,
          417.8,
          399.6,
          412.8,
          408.2,
          419.4,
          416.4,
          412
         ],
         "yaxis": "y"
        },
        {
         "hovertemplate": "Industry=Professional Services<br>Year=%{x}<br>Value=%{y}<extra></extra>",
         "legendgroup": "Professional Services",
         "line": {
          "color": "#FFA15A",
          "dash": "solid"
         },
         "marker": {
          "symbol": "circle"
         },
         "mode": "lines",
         "name": "Professional Services",
         "orientation": "v",
         "showlegend": true,
         "type": "scatter",
         "x": [
          2007,
          2008,
          2009,
          2010,
          2011,
          2012,
          2013,
          2014,
          2015,
          2016,
          2017,
          2018,
          2019,
          2020
         ],
         "xaxis": "x",
         "y": [
          239.2,
          252.3,
          259.1,
          273,
          294,
          300.6,
          311.9,
          364.2,
          358.6,
          393.1,
          402.4,
          428.7,
          458.4,
          471.9
         ],
         "yaxis": "y"
        }
       ],
       "layout": {
        "legend": {
         "orientation": "v",
         "title": {
          "text": "Industry"
         },
         "tracegroupgap": 0,
         "x": 1.3,
         "xanchor": "right",
         "y": 0.5,
         "yanchor": "middle"
        },
        "margin": {
         "b": 50,
         "l": 50,
         "r": 50,
         "t": 80
        },
        "template": {
         "data": {
          "bar": [
           {
            "error_x": {
             "color": "#2a3f5f"
            },
            "error_y": {
             "color": "#2a3f5f"
            },
            "marker": {
             "line": {
              "color": "#E5ECF6",
              "width": 0.5
             },
             "pattern": {
              "fillmode": "overlay",
              "size": 10,
              "solidity": 0.2
             }
            },
            "type": "bar"
           }
          ],
          "barpolar": [
           {
            "marker": {
             "line": {
              "color": "#E5ECF6",
              "width": 0.5
             },
             "pattern": {
              "fillmode": "overlay",
              "size": 10,
              "solidity": 0.2
             }
            },
            "type": "barpolar"
           }
          ],
          "carpet": [
           {
            "aaxis": {
             "endlinecolor": "#2a3f5f",
             "gridcolor": "white",
             "linecolor": "white",
             "minorgridcolor": "white",
             "startlinecolor": "#2a3f5f"
            },
            "baxis": {
             "endlinecolor": "#2a3f5f",
             "gridcolor": "white",
             "linecolor": "white",
             "minorgridcolor": "white",
             "startlinecolor": "#2a3f5f"
            },
            "type": "carpet"
           }
          ],
          "choropleth": [
           {
            "colorbar": {
             "outlinewidth": 0,
             "ticks": ""
            },
            "type": "choropleth"
           }
          ],
          "contour": [
           {
            "colorbar": {
             "outlinewidth": 0,
             "ticks": ""
            },
            "colorscale": [
             [
              0,
              "#0d0887"
             ],
             [
              0.1111111111111111,
              "#46039f"
             ],
             [
              0.2222222222222222,
              "#7201a8"
             ],
             [
              0.3333333333333333,
              "#9c179e"
             ],
             [
              0.4444444444444444,
              "#bd3786"
             ],
             [
              0.5555555555555556,
              "#d8576b"
             ],
             [
              0.6666666666666666,
              "#ed7953"
             ],
             [
              0.7777777777777778,
              "#fb9f3a"
             ],
             [
              0.8888888888888888,
              "#fdca26"
             ],
             [
              1,
              "#f0f921"
             ]
            ],
            "type": "contour"
           }
          ],
          "contourcarpet": [
           {
            "colorbar": {
             "outlinewidth": 0,
             "ticks": ""
            },
            "type": "contourcarpet"
           }
          ],
          "heatmap": [
           {
            "colorbar": {
             "outlinewidth": 0,
             "ticks": ""
            },
            "colorscale": [
             [
              0,
              "#0d0887"
             ],
             [
              0.1111111111111111,
              "#46039f"
             ],
             [
              0.2222222222222222,
              "#7201a8"
             ],
             [
              0.3333333333333333,
              "#9c179e"
             ],
             [
              0.4444444444444444,
              "#bd3786"
             ],
             [
              0.5555555555555556,
              "#d8576b"
             ],
             [
              0.6666666666666666,
              "#ed7953"
             ],
             [
              0.7777777777777778,
              "#fb9f3a"
             ],
             [
              0.8888888888888888,
              "#fdca26"
             ],
             [
              1,
              "#f0f921"
             ]
            ],
            "type": "heatmap"
           }
          ],
          "heatmapgl": [
           {
            "colorbar": {
             "outlinewidth": 0,
             "ticks": ""
            },
            "colorscale": [
             [
              0,
              "#0d0887"
             ],
             [
              0.1111111111111111,
              "#46039f"
             ],
             [
              0.2222222222222222,
              "#7201a8"
             ],
             [
              0.3333333333333333,
              "#9c179e"
             ],
             [
              0.4444444444444444,
              "#bd3786"
             ],
             [
              0.5555555555555556,
              "#d8576b"
             ],
             [
              0.6666666666666666,
              "#ed7953"
             ],
             [
              0.7777777777777778,
              "#fb9f3a"
             ],
             [
              0.8888888888888888,
              "#fdca26"
             ],
             [
              1,
              "#f0f921"
             ]
            ],
            "type": "heatmapgl"
           }
          ],
          "histogram": [
           {
            "marker": {
             "pattern": {
              "fillmode": "overlay",
              "size": 10,
              "solidity": 0.2
             }
            },
            "type": "histogram"
           }
          ],
          "histogram2d": [
           {
            "colorbar": {
             "outlinewidth": 0,
             "ticks": ""
            },
            "colorscale": [
             [
              0,
              "#0d0887"
             ],
             [
              0.1111111111111111,
              "#46039f"
             ],
             [
              0.2222222222222222,
              "#7201a8"
             ],
             [
              0.3333333333333333,
              "#9c179e"
             ],
             [
              0.4444444444444444,
              "#bd3786"
             ],
             [
              0.5555555555555556,
              "#d8576b"
             ],
             [
              0.6666666666666666,
              "#ed7953"
             ],
             [
              0.7777777777777778,
              "#fb9f3a"
             ],
             [
              0.8888888888888888,
              "#fdca26"
             ],
             [
              1,
              "#f0f921"
             ]
            ],
            "type": "histogram2d"
           }
          ],
          "histogram2dcontour": [
           {
            "colorbar": {
             "outlinewidth": 0,
             "ticks": ""
            },
            "colorscale": [
             [
              0,
              "#0d0887"
             ],
             [
              0.1111111111111111,
              "#46039f"
             ],
             [
              0.2222222222222222,
              "#7201a8"
             ],
             [
              0.3333333333333333,
              "#9c179e"
             ],
             [
              0.4444444444444444,
              "#bd3786"
             ],
             [
              0.5555555555555556,
              "#d8576b"
             ],
             [
              0.6666666666666666,
              "#ed7953"
             ],
             [
              0.7777777777777778,
              "#fb9f3a"
             ],
             [
              0.8888888888888888,
              "#fdca26"
             ],
             [
              1,
              "#f0f921"
             ]
            ],
            "type": "histogram2dcontour"
           }
          ],
          "mesh3d": [
           {
            "colorbar": {
             "outlinewidth": 0,
             "ticks": ""
            },
            "type": "mesh3d"
           }
          ],
          "parcoords": [
           {
            "line": {
             "colorbar": {
              "outlinewidth": 0,
              "ticks": ""
             }
            },
            "type": "parcoords"
           }
          ],
          "pie": [
           {
            "automargin": true,
            "type": "pie"
           }
          ],
          "scatter": [
           {
            "fillpattern": {
             "fillmode": "overlay",
             "size": 10,
             "solidity": 0.2
            },
            "type": "scatter"
           }
          ],
          "scatter3d": [
           {
            "line": {
             "colorbar": {
              "outlinewidth": 0,
              "ticks": ""
             }
            },
            "marker": {
             "colorbar": {
              "outlinewidth": 0,
              "ticks": ""
             }
            },
            "type": "scatter3d"
           }
          ],
          "scattercarpet": [
           {
            "marker": {
             "colorbar": {
              "outlinewidth": 0,
              "ticks": ""
             }
            },
            "type": "scattercarpet"
           }
          ],
          "scattergeo": [
           {
            "marker": {
             "colorbar": {
              "outlinewidth": 0,
              "ticks": ""
             }
            },
            "type": "scattergeo"
           }
          ],
          "scattergl": [
           {
            "marker": {
             "colorbar": {
              "outlinewidth": 0,
              "ticks": ""
             }
            },
            "type": "scattergl"
           }
          ],
          "scattermapbox": [
           {
            "marker": {
             "colorbar": {
              "outlinewidth": 0,
              "ticks": ""
             }
            },
            "type": "scattermapbox"
           }
          ],
          "scatterpolar": [
           {
            "marker": {
             "colorbar": {
              "outlinewidth": 0,
              "ticks": ""
             }
            },
            "type": "scatterpolar"
           }
          ],
          "scatterpolargl": [
           {
            "marker": {
             "colorbar": {
              "outlinewidth": 0,
              "ticks": ""
             }
            },
            "type": "scatterpolargl"
           }
          ],
          "scatterternary": [
           {
            "marker": {
             "colorbar": {
              "outlinewidth": 0,
              "ticks": ""
             }
            },
            "type": "scatterternary"
           }
          ],
          "surface": [
           {
            "colorbar": {
             "outlinewidth": 0,
             "ticks": ""
            },
            "colorscale": [
             [
              0,
              "#0d0887"
             ],
             [
              0.1111111111111111,
              "#46039f"
             ],
             [
              0.2222222222222222,
              "#7201a8"
             ],
             [
              0.3333333333333333,
              "#9c179e"
             ],
             [
              0.4444444444444444,
              "#bd3786"
             ],
             [
              0.5555555555555556,
              "#d8576b"
             ],
             [
              0.6666666666666666,
              "#ed7953"
             ],
             [
              0.7777777777777778,
              "#fb9f3a"
             ],
             [
              0.8888888888888888,
              "#fdca26"
             ],
             [
              1,
              "#f0f921"
             ]
            ],
            "type": "surface"
           }
          ],
          "table": [
           {
            "cells": {
             "fill": {
              "color": "#EBF0F8"
             },
             "line": {
              "color": "white"
             }
            },
            "header": {
             "fill": {
              "color": "#C8D4E3"
             },
             "line": {
              "color": "white"
             }
            },
            "type": "table"
           }
          ]
         },
         "layout": {
          "annotationdefaults": {
           "arrowcolor": "#2a3f5f",
           "arrowhead": 0,
           "arrowwidth": 1
          },
          "autotypenumbers": "strict",
          "coloraxis": {
           "colorbar": {
            "outlinewidth": 0,
            "ticks": ""
           }
          },
          "colorscale": {
           "diverging": [
            [
             0,
             "#8e0152"
            ],
            [
             0.1,
             "#c51b7d"
            ],
            [
             0.2,
             "#de77ae"
            ],
            [
             0.3,
             "#f1b6da"
            ],
            [
             0.4,
             "#fde0ef"
            ],
            [
             0.5,
             "#f7f7f7"
            ],
            [
             0.6,
             "#e6f5d0"
            ],
            [
             0.7,
             "#b8e186"
            ],
            [
             0.8,
             "#7fbc41"
            ],
            [
             0.9,
             "#4d9221"
            ],
            [
             1,
             "#276419"
            ]
           ],
           "sequential": [
            [
             0,
             "#0d0887"
            ],
            [
             0.1111111111111111,
             "#46039f"
            ],
            [
             0.2222222222222222,
             "#7201a8"
            ],
            [
             0.3333333333333333,
             "#9c179e"
            ],
            [
             0.4444444444444444,
             "#bd3786"
            ],
            [
             0.5555555555555556,
             "#d8576b"
            ],
            [
             0.6666666666666666,
             "#ed7953"
            ],
            [
             0.7777777777777778,
             "#fb9f3a"
            ],
            [
             0.8888888888888888,
             "#fdca26"
            ],
            [
             1,
             "#f0f921"
            ]
           ],
           "sequentialminus": [
            [
             0,
             "#0d0887"
            ],
            [
             0.1111111111111111,
             "#46039f"
            ],
            [
             0.2222222222222222,
             "#7201a8"
            ],
            [
             0.3333333333333333,
             "#9c179e"
            ],
            [
             0.4444444444444444,
             "#bd3786"
            ],
            [
             0.5555555555555556,
             "#d8576b"
            ],
            [
             0.6666666666666666,
             "#ed7953"
            ],
            [
             0.7777777777777778,
             "#fb9f3a"
            ],
            [
             0.8888888888888888,
             "#fdca26"
            ],
            [
             1,
             "#f0f921"
            ]
           ]
          },
          "colorway": [
           "#636efa",
           "#EF553B",
           "#00cc96",
           "#ab63fa",
           "#FFA15A",
           "#19d3f3",
           "#FF6692",
           "#B6E880",
           "#FF97FF",
           "#FECB52"
          ],
          "font": {
           "color": "#2a3f5f"
          },
          "geo": {
           "bgcolor": "white",
           "lakecolor": "white",
           "landcolor": "#E5ECF6",
           "showlakes": true,
           "showland": true,
           "subunitcolor": "white"
          },
          "hoverlabel": {
           "align": "left"
          },
          "hovermode": "closest",
          "mapbox": {
           "style": "light"
          },
          "paper_bgcolor": "white",
          "plot_bgcolor": "#E5ECF6",
          "polar": {
           "angularaxis": {
            "gridcolor": "white",
            "linecolor": "white",
            "ticks": ""
           },
           "bgcolor": "#E5ECF6",
           "radialaxis": {
            "gridcolor": "white",
            "linecolor": "white",
            "ticks": ""
           }
          },
          "scene": {
           "xaxis": {
            "backgroundcolor": "#E5ECF6",
            "gridcolor": "white",
            "gridwidth": 2,
            "linecolor": "white",
            "showbackground": true,
            "ticks": "",
            "zerolinecolor": "white"
           },
           "yaxis": {
            "backgroundcolor": "#E5ECF6",
            "gridcolor": "white",
            "gridwidth": 2,
            "linecolor": "white",
            "showbackground": true,
            "ticks": "",
            "zerolinecolor": "white"
           },
           "zaxis": {
            "backgroundcolor": "#E5ECF6",
            "gridcolor": "white",
            "gridwidth": 2,
            "linecolor": "white",
            "showbackground": true,
            "ticks": "",
            "zerolinecolor": "white"
           }
          },
          "shapedefaults": {
           "line": {
            "color": "#2a3f5f"
           }
          },
          "ternary": {
           "aaxis": {
            "gridcolor": "white",
            "linecolor": "white",
            "ticks": ""
           },
           "baxis": {
            "gridcolor": "white",
            "linecolor": "white",
            "ticks": ""
           },
           "bgcolor": "#E5ECF6",
           "caxis": {
            "gridcolor": "white",
            "linecolor": "white",
            "ticks": ""
           }
          },
          "title": {
           "x": 0.05
          },
          "xaxis": {
           "automargin": true,
           "gridcolor": "white",
           "linecolor": "white",
           "ticks": "",
           "title": {
            "standoff": 15
           },
           "zerolinecolor": "white",
           "zerolinewidth": 2
          },
          "yaxis": {
           "automargin": true,
           "gridcolor": "white",
           "linecolor": "white",
           "ticks": "",
           "title": {
            "standoff": 15
           },
           "zerolinecolor": "white",
           "zerolinewidth": 2
          }
         }
        },
        "title": {
         "font": {
          "size": 20
         },
         "text": "Number of Employees Change (in thous.) by FDI Establishments",
         "x": 0.5
        },
        "xaxis": {
         "anchor": "y",
         "domain": [
          0,
          1
         ],
         "tickfont": {
          "size": 12
         },
         "title": {
          "text": "Year"
         }
        },
        "yaxis": {
         "anchor": "x",
         "domain": [
          0,
          1
         ],
         "tickfont": {
          "size": 12
         },
         "title": {
          "text": "Value"
         }
        }
       }
      },
      "text/html": [
       "<div>                            <div id=\"0044563d-2ae4-4a5d-ad86-b37d09d45395\" class=\"plotly-graph-div\" style=\"height:525px; width:100%;\"></div>            <script type=\"text/javascript\">                require([\"plotly\"], function(Plotly) {                    window.PLOTLYENV=window.PLOTLYENV || {};                                    if (document.getElementById(\"0044563d-2ae4-4a5d-ad86-b37d09d45395\")) {                    Plotly.newPlot(                        \"0044563d-2ae4-4a5d-ad86-b37d09d45395\",                        [{\"hovertemplate\":\"Industry=Manufacturing<br>Year=%{x}<br>Value=%{y}<extra></extra>\",\"legendgroup\":\"Manufacturing\",\"line\":{\"color\":\"#636efa\",\"dash\":\"solid\"},\"marker\":{\"symbol\":\"circle\"},\"mode\":\"lines\",\"name\":\"Manufacturing\",\"orientation\":\"v\",\"showlegend\":true,\"x\":[2007,2008,2009,2010,2011,2012,2013,2014,2015,2016,2017,2018,2019,2020],\"xaxis\":\"x\",\"y\":[2050.7,2151.5,1961.0,2013.5,2101.2,2200.4,2314.2,2409.9,2425.0,2558.4,2716.3,2827.1,2869.0,2821.8],\"yaxis\":\"y\",\"type\":\"scatter\"},{\"hovertemplate\":\"Industry=Wholesale and Retail Trade<br>Year=%{x}<br>Value=%{y}<extra></extra>\",\"legendgroup\":\"Wholesale and Retail Trade\",\"line\":{\"color\":\"#EF553B\",\"dash\":\"solid\"},\"marker\":{\"symbol\":\"circle\"},\"mode\":\"lines\",\"name\":\"Wholesale and Retail Trade\",\"orientation\":\"v\",\"showlegend\":true,\"x\":[2007,2008,2009,2010,2011,2012,2013,2014,2015,2016,2017,2018,2019,2020],\"xaxis\":\"x\",\"y\":[1191.6,1097.5,1044.8,1027.6,1048.9,1087.6,1113.7,1192.0,1263.5,1388.3,1477.7,1557.6,1634.0,1585.5],\"yaxis\":\"y\",\"type\":\"scatter\"},{\"hovertemplate\":\"Industry=Information<br>Year=%{x}<br>Value=%{y}<extra></extra>\",\"legendgroup\":\"Information\",\"line\":{\"color\":\"#00cc96\",\"dash\":\"solid\"},\"marker\":{\"symbol\":\"circle\"},\"mode\":\"lines\",\"name\":\"Information\",\"orientation\":\"v\",\"showlegend\":true,\"x\":[2007,2008,2009,2010,2011,2012,2013,2014,2015,2016,2017,2018,2019,2020],\"xaxis\":\"x\",\"y\":[233.5,261.1,252.3,241.0,244.8,260.6,302.5,298.6,294.5,306.1,312.0,353.8,367.3,335.5],\"yaxis\":\"y\",\"type\":\"scatter\"},{\"hovertemplate\":\"Industry=Finance and Insurance<br>Year=%{x}<br>Value=%{y}<extra></extra>\",\"legendgroup\":\"Finance and Insurance\",\"line\":{\"color\":\"#ab63fa\",\"dash\":\"solid\"},\"marker\":{\"symbol\":\"circle\"},\"mode\":\"lines\",\"name\":\"Finance and Insurance\",\"orientation\":\"v\",\"showlegend\":true,\"x\":[2007,2008,2009,2010,2011,2012,2013,2014,2015,2016,2017,2018,2019,2020],\"xaxis\":\"x\",\"y\":[382.1,412.8,384.5,402.2,414.3,420.0,416.5,417.8,399.6,412.8,408.2,419.4,416.4,412.0],\"yaxis\":\"y\",\"type\":\"scatter\"},{\"hovertemplate\":\"Industry=Professional Services<br>Year=%{x}<br>Value=%{y}<extra></extra>\",\"legendgroup\":\"Professional Services\",\"line\":{\"color\":\"#FFA15A\",\"dash\":\"solid\"},\"marker\":{\"symbol\":\"circle\"},\"mode\":\"lines\",\"name\":\"Professional Services\",\"orientation\":\"v\",\"showlegend\":true,\"x\":[2007,2008,2009,2010,2011,2012,2013,2014,2015,2016,2017,2018,2019,2020],\"xaxis\":\"x\",\"y\":[239.2,252.3,259.1,273.0,294.0,300.6,311.9,364.2,358.6,393.1,402.4,428.7,458.4,471.9],\"yaxis\":\"y\",\"type\":\"scatter\"}],                        {\"template\":{\"data\":{\"histogram2dcontour\":[{\"type\":\"histogram2dcontour\",\"colorbar\":{\"outlinewidth\":0,\"ticks\":\"\"},\"colorscale\":[[0.0,\"#0d0887\"],[0.1111111111111111,\"#46039f\"],[0.2222222222222222,\"#7201a8\"],[0.3333333333333333,\"#9c179e\"],[0.4444444444444444,\"#bd3786\"],[0.5555555555555556,\"#d8576b\"],[0.6666666666666666,\"#ed7953\"],[0.7777777777777778,\"#fb9f3a\"],[0.8888888888888888,\"#fdca26\"],[1.0,\"#f0f921\"]]}],\"choropleth\":[{\"type\":\"choropleth\",\"colorbar\":{\"outlinewidth\":0,\"ticks\":\"\"}}],\"histogram2d\":[{\"type\":\"histogram2d\",\"colorbar\":{\"outlinewidth\":0,\"ticks\":\"\"},\"colorscale\":[[0.0,\"#0d0887\"],[0.1111111111111111,\"#46039f\"],[0.2222222222222222,\"#7201a8\"],[0.3333333333333333,\"#9c179e\"],[0.4444444444444444,\"#bd3786\"],[0.5555555555555556,\"#d8576b\"],[0.6666666666666666,\"#ed7953\"],[0.7777777777777778,\"#fb9f3a\"],[0.8888888888888888,\"#fdca26\"],[1.0,\"#f0f921\"]]}],\"heatmap\":[{\"type\":\"heatmap\",\"colorbar\":{\"outlinewidth\":0,\"ticks\":\"\"},\"colorscale\":[[0.0,\"#0d0887\"],[0.1111111111111111,\"#46039f\"],[0.2222222222222222,\"#7201a8\"],[0.3333333333333333,\"#9c179e\"],[0.4444444444444444,\"#bd3786\"],[0.5555555555555556,\"#d8576b\"],[0.6666666666666666,\"#ed7953\"],[0.7777777777777778,\"#fb9f3a\"],[0.8888888888888888,\"#fdca26\"],[1.0,\"#f0f921\"]]}],\"heatmapgl\":[{\"type\":\"heatmapgl\",\"colorbar\":{\"outlinewidth\":0,\"ticks\":\"\"},\"colorscale\":[[0.0,\"#0d0887\"],[0.1111111111111111,\"#46039f\"],[0.2222222222222222,\"#7201a8\"],[0.3333333333333333,\"#9c179e\"],[0.4444444444444444,\"#bd3786\"],[0.5555555555555556,\"#d8576b\"],[0.6666666666666666,\"#ed7953\"],[0.7777777777777778,\"#fb9f3a\"],[0.8888888888888888,\"#fdca26\"],[1.0,\"#f0f921\"]]}],\"contourcarpet\":[{\"type\":\"contourcarpet\",\"colorbar\":{\"outlinewidth\":0,\"ticks\":\"\"}}],\"contour\":[{\"type\":\"contour\",\"colorbar\":{\"outlinewidth\":0,\"ticks\":\"\"},\"colorscale\":[[0.0,\"#0d0887\"],[0.1111111111111111,\"#46039f\"],[0.2222222222222222,\"#7201a8\"],[0.3333333333333333,\"#9c179e\"],[0.4444444444444444,\"#bd3786\"],[0.5555555555555556,\"#d8576b\"],[0.6666666666666666,\"#ed7953\"],[0.7777777777777778,\"#fb9f3a\"],[0.8888888888888888,\"#fdca26\"],[1.0,\"#f0f921\"]]}],\"surface\":[{\"type\":\"surface\",\"colorbar\":{\"outlinewidth\":0,\"ticks\":\"\"},\"colorscale\":[[0.0,\"#0d0887\"],[0.1111111111111111,\"#46039f\"],[0.2222222222222222,\"#7201a8\"],[0.3333333333333333,\"#9c179e\"],[0.4444444444444444,\"#bd3786\"],[0.5555555555555556,\"#d8576b\"],[0.6666666666666666,\"#ed7953\"],[0.7777777777777778,\"#fb9f3a\"],[0.8888888888888888,\"#fdca26\"],[1.0,\"#f0f921\"]]}],\"mesh3d\":[{\"type\":\"mesh3d\",\"colorbar\":{\"outlinewidth\":0,\"ticks\":\"\"}}],\"scatter\":[{\"fillpattern\":{\"fillmode\":\"overlay\",\"size\":10,\"solidity\":0.2},\"type\":\"scatter\"}],\"parcoords\":[{\"type\":\"parcoords\",\"line\":{\"colorbar\":{\"outlinewidth\":0,\"ticks\":\"\"}}}],\"scatterpolargl\":[{\"type\":\"scatterpolargl\",\"marker\":{\"colorbar\":{\"outlinewidth\":0,\"ticks\":\"\"}}}],\"bar\":[{\"error_x\":{\"color\":\"#2a3f5f\"},\"error_y\":{\"color\":\"#2a3f5f\"},\"marker\":{\"line\":{\"color\":\"#E5ECF6\",\"width\":0.5},\"pattern\":{\"fillmode\":\"overlay\",\"size\":10,\"solidity\":0.2}},\"type\":\"bar\"}],\"scattergeo\":[{\"type\":\"scattergeo\",\"marker\":{\"colorbar\":{\"outlinewidth\":0,\"ticks\":\"\"}}}],\"scatterpolar\":[{\"type\":\"scatterpolar\",\"marker\":{\"colorbar\":{\"outlinewidth\":0,\"ticks\":\"\"}}}],\"histogram\":[{\"marker\":{\"pattern\":{\"fillmode\":\"overlay\",\"size\":10,\"solidity\":0.2}},\"type\":\"histogram\"}],\"scattergl\":[{\"type\":\"scattergl\",\"marker\":{\"colorbar\":{\"outlinewidth\":0,\"ticks\":\"\"}}}],\"scatter3d\":[{\"type\":\"scatter3d\",\"line\":{\"colorbar\":{\"outlinewidth\":0,\"ticks\":\"\"}},\"marker\":{\"colorbar\":{\"outlinewidth\":0,\"ticks\":\"\"}}}],\"scattermapbox\":[{\"type\":\"scattermapbox\",\"marker\":{\"colorbar\":{\"outlinewidth\":0,\"ticks\":\"\"}}}],\"scatterternary\":[{\"type\":\"scatterternary\",\"marker\":{\"colorbar\":{\"outlinewidth\":0,\"ticks\":\"\"}}}],\"scattercarpet\":[{\"type\":\"scattercarpet\",\"marker\":{\"colorbar\":{\"outlinewidth\":0,\"ticks\":\"\"}}}],\"carpet\":[{\"aaxis\":{\"endlinecolor\":\"#2a3f5f\",\"gridcolor\":\"white\",\"linecolor\":\"white\",\"minorgridcolor\":\"white\",\"startlinecolor\":\"#2a3f5f\"},\"baxis\":{\"endlinecolor\":\"#2a3f5f\",\"gridcolor\":\"white\",\"linecolor\":\"white\",\"minorgridcolor\":\"white\",\"startlinecolor\":\"#2a3f5f\"},\"type\":\"carpet\"}],\"table\":[{\"cells\":{\"fill\":{\"color\":\"#EBF0F8\"},\"line\":{\"color\":\"white\"}},\"header\":{\"fill\":{\"color\":\"#C8D4E3\"},\"line\":{\"color\":\"white\"}},\"type\":\"table\"}],\"barpolar\":[{\"marker\":{\"line\":{\"color\":\"#E5ECF6\",\"width\":0.5},\"pattern\":{\"fillmode\":\"overlay\",\"size\":10,\"solidity\":0.2}},\"type\":\"barpolar\"}],\"pie\":[{\"automargin\":true,\"type\":\"pie\"}]},\"layout\":{\"autotypenumbers\":\"strict\",\"colorway\":[\"#636efa\",\"#EF553B\",\"#00cc96\",\"#ab63fa\",\"#FFA15A\",\"#19d3f3\",\"#FF6692\",\"#B6E880\",\"#FF97FF\",\"#FECB52\"],\"font\":{\"color\":\"#2a3f5f\"},\"hovermode\":\"closest\",\"hoverlabel\":{\"align\":\"left\"},\"paper_bgcolor\":\"white\",\"plot_bgcolor\":\"#E5ECF6\",\"polar\":{\"bgcolor\":\"#E5ECF6\",\"angularaxis\":{\"gridcolor\":\"white\",\"linecolor\":\"white\",\"ticks\":\"\"},\"radialaxis\":{\"gridcolor\":\"white\",\"linecolor\":\"white\",\"ticks\":\"\"}},\"ternary\":{\"bgcolor\":\"#E5ECF6\",\"aaxis\":{\"gridcolor\":\"white\",\"linecolor\":\"white\",\"ticks\":\"\"},\"baxis\":{\"gridcolor\":\"white\",\"linecolor\":\"white\",\"ticks\":\"\"},\"caxis\":{\"gridcolor\":\"white\",\"linecolor\":\"white\",\"ticks\":\"\"}},\"coloraxis\":{\"colorbar\":{\"outlinewidth\":0,\"ticks\":\"\"}},\"colorscale\":{\"sequential\":[[0.0,\"#0d0887\"],[0.1111111111111111,\"#46039f\"],[0.2222222222222222,\"#7201a8\"],[0.3333333333333333,\"#9c179e\"],[0.4444444444444444,\"#bd3786\"],[0.5555555555555556,\"#d8576b\"],[0.6666666666666666,\"#ed7953\"],[0.7777777777777778,\"#fb9f3a\"],[0.8888888888888888,\"#fdca26\"],[1.0,\"#f0f921\"]],\"sequentialminus\":[[0.0,\"#0d0887\"],[0.1111111111111111,\"#46039f\"],[0.2222222222222222,\"#7201a8\"],[0.3333333333333333,\"#9c179e\"],[0.4444444444444444,\"#bd3786\"],[0.5555555555555556,\"#d8576b\"],[0.6666666666666666,\"#ed7953\"],[0.7777777777777778,\"#fb9f3a\"],[0.8888888888888888,\"#fdca26\"],[1.0,\"#f0f921\"]],\"diverging\":[[0,\"#8e0152\"],[0.1,\"#c51b7d\"],[0.2,\"#de77ae\"],[0.3,\"#f1b6da\"],[0.4,\"#fde0ef\"],[0.5,\"#f7f7f7\"],[0.6,\"#e6f5d0\"],[0.7,\"#b8e186\"],[0.8,\"#7fbc41\"],[0.9,\"#4d9221\"],[1,\"#276419\"]]},\"xaxis\":{\"gridcolor\":\"white\",\"linecolor\":\"white\",\"ticks\":\"\",\"title\":{\"standoff\":15},\"zerolinecolor\":\"white\",\"automargin\":true,\"zerolinewidth\":2},\"yaxis\":{\"gridcolor\":\"white\",\"linecolor\":\"white\",\"ticks\":\"\",\"title\":{\"standoff\":15},\"zerolinecolor\":\"white\",\"automargin\":true,\"zerolinewidth\":2},\"scene\":{\"xaxis\":{\"backgroundcolor\":\"#E5ECF6\",\"gridcolor\":\"white\",\"linecolor\":\"white\",\"showbackground\":true,\"ticks\":\"\",\"zerolinecolor\":\"white\",\"gridwidth\":2},\"yaxis\":{\"backgroundcolor\":\"#E5ECF6\",\"gridcolor\":\"white\",\"linecolor\":\"white\",\"showbackground\":true,\"ticks\":\"\",\"zerolinecolor\":\"white\",\"gridwidth\":2},\"zaxis\":{\"backgroundcolor\":\"#E5ECF6\",\"gridcolor\":\"white\",\"linecolor\":\"white\",\"showbackground\":true,\"ticks\":\"\",\"zerolinecolor\":\"white\",\"gridwidth\":2}},\"shapedefaults\":{\"line\":{\"color\":\"#2a3f5f\"}},\"annotationdefaults\":{\"arrowcolor\":\"#2a3f5f\",\"arrowhead\":0,\"arrowwidth\":1},\"geo\":{\"bgcolor\":\"white\",\"landcolor\":\"#E5ECF6\",\"subunitcolor\":\"white\",\"showland\":true,\"showlakes\":true,\"lakecolor\":\"white\"},\"title\":{\"x\":0.05},\"mapbox\":{\"style\":\"light\"}}},\"xaxis\":{\"anchor\":\"y\",\"domain\":[0.0,1.0],\"title\":{\"text\":\"Year\"},\"tickfont\":{\"size\":12}},\"yaxis\":{\"anchor\":\"x\",\"domain\":[0.0,1.0],\"title\":{\"text\":\"Value\"},\"tickfont\":{\"size\":12}},\"legend\":{\"title\":{\"text\":\"Industry\"},\"tracegroupgap\":0,\"orientation\":\"v\",\"yanchor\":\"middle\",\"y\":0.5,\"xanchor\":\"right\",\"x\":1.3},\"title\":{\"text\":\"Number of Employees Change (in thous.) by FDI Establishments\",\"font\":{\"size\":20},\"x\":0.5},\"margin\":{\"l\":50,\"r\":50,\"t\":80,\"b\":50}},                        {\"responsive\": true}                    ).then(function(){\n",
       "                            \n",
       "var gd = document.getElementById('0044563d-2ae4-4a5d-ad86-b37d09d45395');\n",
       "var x = new MutationObserver(function (mutations, observer) {{\n",
       "        var display = window.getComputedStyle(gd).display;\n",
       "        if (!display || display === 'none') {{\n",
       "            console.log([gd, 'removed!']);\n",
       "            Plotly.purge(gd);\n",
       "            observer.disconnect();\n",
       "        }}\n",
       "}});\n",
       "\n",
       "// Listen for the removal of the full notebook cells\n",
       "var notebookContainer = gd.closest('#notebook-container');\n",
       "if (notebookContainer) {{\n",
       "    x.observe(notebookContainer, {childList: true});\n",
       "}}\n",
       "\n",
       "// Listen for the clearing of the current output cell\n",
       "var outputEl = gd.closest('.output');\n",
       "if (outputEl) {{\n",
       "    x.observe(outputEl, {childList: true});\n",
       "}}\n",
       "\n",
       "                        })                };                });            </script>        </div>"
      ]
     },
     "metadata": {},
     "output_type": "display_data"
    }
   ],
   "source": [
    "# Melt the dataframe to \"long\" format\n",
    "df_long = time_df.melt(id_vars=['Year'], var_name='Industry', value_name='Value')\n",
    "\n",
    "# Create a line plot using plotly express\n",
    "fig = px.line(df_long, x='Year', y='Value', color='Industry',\n",
    "              title='Number of Employees Change (in thous.) by FDI Establishments',\n",
    "              labels={'Year': 'Year', 'Value': 'Value', 'Industry': 'Industry'})\n",
    "\n",
    "# Customize the layout\n",
    "fig.update_layout(\n",
    "    legend=dict(\n",
    "        orientation='v',\n",
    "        yanchor='middle',\n",
    "        y=0.5,\n",
    "        xanchor='right',\n",
    "        x=1.3\n",
    "    ),\n",
    "    xaxis_tickfont_size=12,\n",
    "    yaxis_tickfont_size=12,\n",
    "    title_font_size=20,\n",
    "    title_x=0.5,\n",
    "    margin=dict(l=50, r=50, t=80, b=50)\n",
    ")\n",
    "\n",
    "# Show the plot\n",
    "fig.show()"
   ]
  },
  {
   "cell_type": "code",
   "execution_count": null,
   "id": "c878bae1",
   "metadata": {},
   "outputs": [],
   "source": []
  }
 ],
 "metadata": {
  "kernelspec": {
   "display_name": "Python 3 (ipykernel)",
   "language": "python",
   "name": "python3"
  },
  "language_info": {
   "codemirror_mode": {
    "name": "ipython",
    "version": 3
   },
   "file_extension": ".py",
   "mimetype": "text/x-python",
   "name": "python",
   "nbconvert_exporter": "python",
   "pygments_lexer": "ipython3",
   "version": "3.9.13"
  }
 },
 "nbformat": 4,
 "nbformat_minor": 5
}
